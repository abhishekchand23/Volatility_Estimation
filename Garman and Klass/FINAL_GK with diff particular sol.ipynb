{
 "cells": [
  {
   "cell_type": "code",
   "execution_count": 1,
   "metadata": {},
   "outputs": [],
   "source": [
    "import cvxopt\n",
    "from cvxopt import solvers\n",
    "from cvxopt import matrix\n",
    "import numpy as np\n",
    "from scipy.linalg import null_space\n",
    "import math\n",
    "from sympy import Matrix\n",
    "import sympy\n",
    "import pandas as pd"
   ]
  },
  {
   "cell_type": "code",
   "execution_count": 28,
   "metadata": {},
   "outputs": [],
   "source": [
    "GK= [[3,0.2274,2,-0.4318,2.25,-0.1881],\n",
    "     [0.2274,3,2,-0.4318,-0.1881,2.25],\n",
    "     [2,2,3,-0.4381,1.5,1.5],\n",
    "     [-0.4318,-0.4318,-0.4381,0.2274,-0.1881,-0.1881],\n",
    "     [2.25,-0.1881,1.5,-0.1881,2,-0.4381],\n",
    "     [-0.1881,2.25,1.5,-0.1881,-0.4381,2]]\n",
    "GK=Matrix(GK)"
   ]
  },
  {
   "cell_type": "code",
   "execution_count": 29,
   "metadata": {},
   "outputs": [],
   "source": [
    "kgk=[[1,1,1,(1-2*math.log(2)),0.5,0.5]]\n",
    "kgk=Matrix(kgk)\n",
    "N=Matrix()\n",
    "for i in range (0,len(kgk.nullspace())):\n",
    "                N=N.col_insert(i,kgk.nullspace()[i])"
   ]
  },
  {
   "cell_type": "code",
   "execution_count": 30,
   "metadata": {},
   "outputs": [
    {
     "data": {
      "text/plain": [
       "Matrix([\n",
       "[-1, -1, 0.386294361119891, -0.5, -0.5],\n",
       "[ 1,  0,                 0,    0,    0],\n",
       "[ 0,  1,                 0,    0,    0],\n",
       "[ 0,  0,                 1,    0,    0],\n",
       "[ 0,  0,                 0,    1,    0],\n",
       "[ 0,  0,                 0,    0,    1]])"
      ]
     },
     "execution_count": 30,
     "metadata": {},
     "output_type": "execute_result"
    }
   ],
   "source": [
    "N"
   ]
  },
  {
   "cell_type": "code",
   "execution_count": 31,
   "metadata": {},
   "outputs": [
    {
     "data": {
      "text/plain": [
       "-0.3862943611198906"
      ]
     },
     "execution_count": 31,
     "metadata": {},
     "output_type": "execute_result"
    }
   ],
   "source": [
    "1-2*math.log(2)\n"
   ]
  },
  {
   "cell_type": "code",
   "execution_count": 32,
   "metadata": {},
   "outputs": [
    {
     "data": {
      "text/plain": [
       "Matrix([\n",
       "[0.5, -1, -1, 0.386294361119891, -0.5, -0.5],\n",
       "[0.5,  1,  0,                 0,    0,    0],\n",
       "[  0,  0,  1,                 0,    0,    0],\n",
       "[  0,  0,  0,                 1,    0,    0],\n",
       "[  0,  0,  0,                 0,    1,    0],\n",
       "[  0,  0,  0,                 0,    0,    1]])"
      ]
     },
     "execution_count": 32,
     "metadata": {},
     "output_type": "execute_result"
    }
   ],
   "source": [
    "N=N.col_insert(0,Matrix([0.5,0.5,0,0,0,0]))\n",
    "N"
   ]
  },
  {
   "cell_type": "code",
   "execution_count": 33,
   "metadata": {},
   "outputs": [
    {
     "data": {
      "text/plain": [
       "Matrix([\n",
       "[              0.5, 0.5, 0, 0, 0, 0],\n",
       "[               -1,   1, 0, 0, 0, 0],\n",
       "[               -1,   0, 1, 0, 0, 0],\n",
       "[0.386294361119891,   0, 0, 1, 0, 0],\n",
       "[             -0.5,   0, 0, 0, 1, 0],\n",
       "[             -0.5,   0, 0, 0, 0, 1]])"
      ]
     },
     "execution_count": 33,
     "metadata": {},
     "output_type": "execute_result"
    }
   ],
   "source": [
    "Nt=sympy.functions.transpose(N)\n",
    "Nt"
   ]
  },
  {
   "cell_type": "code",
   "execution_count": 34,
   "metadata": {},
   "outputs": [
    {
     "data": {
      "text/plain": [
       "Matrix([\n",
       "[           1.6137,                 0,             0.3863,  0.191563210539167,            0.2241,             0.2241],\n",
       "[                0,            5.5452,             2.7726,  -1.07103974564101,           -1.0518,             3.8244],\n",
       "[           0.3863,            2.7726,                  2, -0.392594361119891,             -0.25,             2.1881],\n",
       "[0.191563210539167, -1.07103974564101, -0.392594361119891,  0.341466190035936, 0.317520770839918, -0.624303511006487],\n",
       "[           0.2241,           -1.0518,              -0.25,  0.317520770839918,               0.5,           -0.71905],\n",
       "[           0.2241,            3.8244,             2.1881, -0.624303511006487,          -0.71905,             2.9381]])"
      ]
     },
     "execution_count": 34,
     "metadata": {},
     "output_type": "execute_result"
    }
   ],
   "source": [
    "P=Nt*GK*N\n",
    "P"
   ]
  },
  {
   "cell_type": "code",
   "execution_count": 35,
   "metadata": {},
   "outputs": [
    {
     "data": {
      "text/plain": [
       "<6x6 matrix, tc='d'>"
      ]
     },
     "execution_count": 35,
     "metadata": {},
     "output_type": "execute_result"
    }
   ],
   "source": [
    "P=[[float(P[0]), float(P[1]), float(P[2]), float(P[3]), float(P[4]),float(P[5])] ,\n",
    "   [float(P[6]), float(P[7]), float(P[8]), float(P[9]), float(P[10]),float(P[11])] ,\n",
    "   [float(P[12]), float(P[13]), float(P[14]), float(P[15]), float(P[16]),float(P[17])] ,\n",
    "   [float(P[18]), float(P[19]), float(P[20]), float(P[21]), float(P[22]),float(P[23])] ,\n",
    "   [float(P[24]), float(P[25]), float(P[26]), float(P[27]), float(P[28]),float(P[29])] ,\n",
    "   [float(P[30]), float(P[31]), float(P[32]), float(P[33]), float(P[34]),float(P[35])] ,\n",
    "  ]\n",
    "P=matrix(P)\n",
    "P"
   ]
  },
  {
   "cell_type": "code",
   "execution_count": 36,
   "metadata": {},
   "outputs": [],
   "source": [
    "import numpy as np\n",
    "\n",
    "def is_pos_def(x):\n",
    "    return np.all(np.linalg.eigvals(x) > 0)\n"
   ]
  },
  {
   "cell_type": "code",
   "execution_count": 37,
   "metadata": {},
   "outputs": [
    {
     "data": {
      "text/plain": [
       "True"
      ]
     },
     "execution_count": 37,
     "metadata": {},
     "output_type": "execute_result"
    }
   ],
   "source": [
    "is_pos_def(P)"
   ]
  },
  {
   "cell_type": "code",
   "execution_count": 38,
   "metadata": {},
   "outputs": [],
   "source": [
    "q=matrix([0.0,0.0,0.0,0.0,0.0,0.0])\n",
    "A=matrix([[1.0],[0.0],[0.0],[0.0],[0.0],[0.0]])\n",
    "b=matrix([1.0])"
   ]
  },
  {
   "cell_type": "code",
   "execution_count": 39,
   "metadata": {},
   "outputs": [
    {
     "data": {
      "text/plain": [
       "{'status': 'optimal',\n",
       " 'x': <6x1 matrix, tc='d'>,\n",
       " 'y': <1x1 matrix, tc='d'>,\n",
       " 'z': <0x1 matrix, tc='d'>,\n",
       " 's': <0x1 matrix, tc='d'>,\n",
       " 'gap': 0.0,\n",
       " 'relgap': 0.0,\n",
       " 'primal objective': 0.6343245244422723,\n",
       " 'dual objective': 0.6343245244422723,\n",
       " 'primal slack': 0.0,\n",
       " 'dual slack': 0.0,\n",
       " 'primal infeasibility': 0.0,\n",
       " 'dual infeasibility': 2.7363029045336316e-16,\n",
       " 'iterations': 0}"
      ]
     },
     "execution_count": 39,
     "metadata": {},
     "output_type": "execute_result"
    }
   ],
   "source": [
    "sol= solvers.qp(P=P,q=q,A=A,b=b)\n",
    "sol"
   ]
  },
  {
   "cell_type": "code",
   "execution_count": 40,
   "metadata": {},
   "outputs": [
    {
     "data": {
      "text/plain": [
       "[1.0,\n",
       " 0.01111925870460057,\n",
       " -0.38306307356830527,\n",
       " -0.9838083746374595,\n",
       " -0.019215071385869687,\n",
       " -0.019215071385870808]"
      ]
     },
     "execution_count": 40,
     "metadata": {},
     "output_type": "execute_result"
    }
   ],
   "source": [
    "Results=[]\n",
    "for i in range(0,len(sol['x'])):\n",
    "    Results.append(float(sol['x'][i]))\n",
    "\n",
    "Results"
   ]
  },
  {
   "cell_type": "code",
   "execution_count": 41,
   "metadata": {},
   "outputs": [],
   "source": [
    "coeff=Results[0]*N.col(0)+ Results[1]*N.col(1)+ Results[2]*N.col(2)+ Results[3]*N.col(3)+ Results[4]*N.col(4)+ Results[5]*N.col(5)"
   ]
  },
  {
   "cell_type": "code",
   "execution_count": 42,
   "metadata": {},
   "outputs": [
    {
     "data": {
      "text/plain": [
       "Matrix([\n",
       "[    0.5111192587046],\n",
       "[  0.511119258704601],\n",
       "[ -0.383063073568305],\n",
       "[  -0.98380837463746],\n",
       "[-0.0192150713858697],\n",
       "[-0.0192150713858708]])"
      ]
     },
     "execution_count": 42,
     "metadata": {},
     "output_type": "execute_result"
    }
   ],
   "source": [
    "coeff"
   ]
  },
  {
   "cell_type": "code",
   "execution_count": 16,
   "metadata": {},
   "outputs": [],
   "source": [
    "GK= [[3.0,0.2274,2.0,-0.4318,2.25,-0.1881],\n",
    "     [0.2274,3.0,2.0,-0.4318,-0.1881,2.25],\n",
    "     [2.0,2.0,3.0,-0.4381,1.5,1.5],\n",
    "     [-0.4318,-0.4318,-0.4381,0.2274,-0.1881,-0.1881],\n",
    "     [2.25,-0.1881,1.5,-0.1881,2.0,-0.4381],\n",
    "     [-0.1881,2.25,1.5,-0.1881,-0.4381,2.0]]\n",
    "GK=matrix(GK)\n",
    "q=matrix([0.0,0.0,0.0,0.0,0.0,0.0])\n",
    "A=matrix([[1.0],[1.0],[1.0],[(1-2*math.log(2))],[0.5],[0.5]])\n",
    "b=matrix([1.0])"
   ]
  },
  {
   "cell_type": "code",
   "execution_count": 17,
   "metadata": {},
   "outputs": [
    {
     "data": {
      "text/plain": [
       "<1x6 matrix, tc='d'>"
      ]
     },
     "execution_count": 17,
     "metadata": {},
     "output_type": "execute_result"
    }
   ],
   "source": [
    "A"
   ]
  },
  {
   "cell_type": "code",
   "execution_count": 18,
   "metadata": {},
   "outputs": [
    {
     "data": {
      "text/plain": [
       "{'status': 'optimal',\n",
       " 'x': <6x1 matrix, tc='d'>,\n",
       " 'y': <1x1 matrix, tc='d'>,\n",
       " 'z': <0x1 matrix, tc='d'>,\n",
       " 's': <0x1 matrix, tc='d'>,\n",
       " 'gap': 0.0,\n",
       " 'relgap': 0.0,\n",
       " 'primal objective': 0.6343245244422722,\n",
       " 'dual objective': 0.6343245244422722,\n",
       " 'primal slack': 0.0,\n",
       " 'dual slack': 0.0,\n",
       " 'primal infeasibility': 1.717376241217039e-16,\n",
       " 'dual infeasibility': 3.554447978966673e-16,\n",
       " 'iterations': 0}"
      ]
     },
     "execution_count": 18,
     "metadata": {},
     "output_type": "execute_result"
    }
   ],
   "source": [
    "sol= solvers.qp(P=GK,q=q,A=A,b=b)\n",
    "sol"
   ]
  },
  {
   "cell_type": "code",
   "execution_count": 19,
   "metadata": {},
   "outputs": [
    {
     "data": {
      "text/plain": [
       "[0.5111192587046041,\n",
       " 0.511119258704604,\n",
       " -0.38306307356829944,\n",
       " -0.9838083746374486,\n",
       " -0.019215071385879967,\n",
       " -0.01921507138587988]"
      ]
     },
     "execution_count": 19,
     "metadata": {},
     "output_type": "execute_result"
    }
   ],
   "source": [
    "Results=[]\n",
    "for i in range(0,len(sol['x'])):\n",
    "    Results.append(float(sol['x'][i]))\n",
    "\n",
    "Results"
   ]
  },
  {
   "cell_type": "code",
   "execution_count": 88,
   "metadata": {},
   "outputs": [],
   "source": [
    "final=pd.DataFrame(Results)\n",
    "final.to_excel(\"gk.xlsx\")"
   ]
  },
  {
   "cell_type": "code",
   "execution_count": null,
   "metadata": {},
   "outputs": [],
   "source": []
  }
 ],
 "metadata": {
  "kernelspec": {
   "display_name": "Python 3",
   "language": "python",
   "name": "python3"
  },
  "language_info": {
   "codemirror_mode": {
    "name": "ipython",
    "version": 3
   },
   "file_extension": ".py",
   "mimetype": "text/x-python",
   "name": "python",
   "nbconvert_exporter": "python",
   "pygments_lexer": "ipython3",
   "version": "3.6.5"
  }
 },
 "nbformat": 4,
 "nbformat_minor": 2
}
