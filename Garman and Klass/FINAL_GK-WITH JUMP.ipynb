{
 "cells": [
  {
   "cell_type": "code",
   "execution_count": 1,
   "metadata": {},
   "outputs": [],
   "source": [
    "import cvxopt\n",
    "from cvxopt import solvers\n",
    "from cvxopt import matrix\n",
    "import numpy as np\n",
    "from scipy.linalg import null_space\n",
    "import math\n",
    "from sympy import Matrix\n",
    "import sympy\n",
    "import pandas as pd"
   ]
  },
  {
   "cell_type": "code",
   "execution_count": 2,
   "metadata": {},
   "outputs": [],
   "source": [
    "GK= [[3.0,0.2274,2.0,-0.4318,2.25,-0.1881,1.0],\n",
    "     [0.2274,3.0,2.0,-0.4318,-0.1881,2.25,1.0],\n",
    "     [2.0,2.0,3.0,-0.4381,1.5,1.5,1.0],\n",
    "     [-0.4318,-0.4318,-0.4381,0.2274,-0.1881,-0.1881,(1-2*math.log(2))],\n",
    "     [2.25,-0.1881,1.5,-0.1881,2.0,-0.4381,0.5],\n",
    "     [-0.1881,2.25,1.5,-0.1881,-0.4381,2.0,0.5],\n",
    "    [1.0,1.0,1.0,(1-2*math.log(2)),0.5,0.5,3.0]]\n",
    "GK=Matrix(GK)"
   ]
  },
  {
   "cell_type": "code",
   "execution_count": 3,
   "metadata": {},
   "outputs": [],
   "source": [
    "kgk=[[1,1,1,(1-2*math.log(2)),0.5,0.5,1]]\n",
    "kgk=Matrix(kgk)\n",
    "N=Matrix()\n",
    "for i in range (0,len(kgk.nullspace())):\n",
    "                N=N.col_insert(i,kgk.nullspace()[i])"
   ]
  },
  {
   "cell_type": "code",
   "execution_count": 4,
   "metadata": {},
   "outputs": [
    {
     "data": {
      "text/plain": [
       "Matrix([\n",
       "[-1, -1, 0.386294361119891, -0.5, -0.5, -1],\n",
       "[ 1,  0,                 0,    0,    0,  0],\n",
       "[ 0,  1,                 0,    0,    0,  0],\n",
       "[ 0,  0,                 1,    0,    0,  0],\n",
       "[ 0,  0,                 0,    1,    0,  0],\n",
       "[ 0,  0,                 0,    0,    1,  0],\n",
       "[ 0,  0,                 0,    0,    0,  1]])"
      ]
     },
     "execution_count": 4,
     "metadata": {},
     "output_type": "execute_result"
    }
   ],
   "source": [
    "N"
   ]
  },
  {
   "cell_type": "code",
   "execution_count": 113,
   "metadata": {},
   "outputs": [
    {
     "data": {
      "text/plain": [
       "-0.3862943611198906"
      ]
     },
     "execution_count": 113,
     "metadata": {},
     "output_type": "execute_result"
    }
   ],
   "source": [
    "1-2*math.log(2)\n"
   ]
  },
  {
   "cell_type": "code",
   "execution_count": 5,
   "metadata": {},
   "outputs": [
    {
     "data": {
      "text/plain": [
       "Matrix([\n",
       "[1, -1, -1, 0.386294361119891, -0.5, -0.5, -1],\n",
       "[0,  1,  0,                 0,    0,    0,  0],\n",
       "[0,  0,  1,                 0,    0,    0,  0],\n",
       "[0,  0,  0,                 1,    0,    0,  0],\n",
       "[0,  0,  0,                 0,    1,    0,  0],\n",
       "[0,  0,  0,                 0,    0,    1,  0],\n",
       "[0,  0,  0,                 0,    0,    0,  1]])"
      ]
     },
     "execution_count": 5,
     "metadata": {},
     "output_type": "execute_result"
    }
   ],
   "source": [
    "N=N.col_insert(0,Matrix([1,0,0,0,0,0,0]))\n",
    "N"
   ]
  },
  {
   "cell_type": "code",
   "execution_count": 6,
   "metadata": {},
   "outputs": [
    {
     "data": {
      "text/plain": [
       "Matrix([\n",
       "[                1, 0, 0, 0, 0, 0, 0],\n",
       "[               -1, 1, 0, 0, 0, 0, 0],\n",
       "[               -1, 0, 1, 0, 0, 0, 0],\n",
       "[0.386294361119891, 0, 0, 1, 0, 0, 0],\n",
       "[             -0.5, 0, 0, 0, 1, 0, 0],\n",
       "[             -0.5, 0, 0, 0, 0, 1, 0],\n",
       "[               -1, 0, 0, 0, 0, 0, 1]])"
      ]
     },
     "execution_count": 6,
     "metadata": {},
     "output_type": "execute_result"
    }
   ],
   "source": [
    "Nt=sympy.functions.transpose(N)\n",
    "Nt"
   ]
  },
  {
   "cell_type": "code",
   "execution_count": 7,
   "metadata": {},
   "outputs": [
    {
     "data": {
      "text/plain": [
       "Matrix([\n",
       "[              3.0,           -2.7726,               -1.0,  0.727083083359672,              0.75,            -1.6881,               -2.0],\n",
       "[          -2.7726,            5.5452,             2.7726,  -1.07103974564101,           -1.0518,             3.8244,             2.7726],\n",
       "[             -1.0,            2.7726,                2.0, -0.392594361119891,             -0.25,             2.1881,                1.0],\n",
       "[0.727083083359672, -1.07103974564101, -0.392594361119891,  0.341466190035936, 0.317520770839918, -0.624303511006487, -0.727083083359672],\n",
       "[             0.75,           -1.0518,              -0.25,  0.317520770839918,               0.5,           -0.71905,              -0.75],\n",
       "[          -1.6881,            3.8244,             2.1881, -0.624303511006487,          -0.71905,             2.9381,             1.6881],\n",
       "[             -2.0,            2.7726,                1.0, -0.727083083359672,             -0.75,             1.6881,                4.0]])"
      ]
     },
     "execution_count": 7,
     "metadata": {},
     "output_type": "execute_result"
    }
   ],
   "source": [
    "P=Nt*GK*N\n",
    "P"
   ]
  },
  {
   "cell_type": "code",
   "execution_count": 8,
   "metadata": {},
   "outputs": [
    {
     "data": {
      "text/plain": [
       "<7x7 matrix, tc='d'>"
      ]
     },
     "execution_count": 8,
     "metadata": {},
     "output_type": "execute_result"
    }
   ],
   "source": [
    "P=[[float(P[0]), float(P[1]), float(P[2]), float(P[3]), float(P[4]),float(P[5]) ,float(P[6])], \n",
    "   [float(P[7]), float(P[8]), float(P[9]), float(P[10]),float(P[11]),float(P[12]), float(P[13])], \n",
    "   [float(P[14]), float(P[15]), float(P[16]),float(P[17]),float(P[18]), float(P[19]), float(P[20])], \n",
    "   [float(P[21]), float(P[22]),float(P[23]) ,float(P[24]), float(P[25]), float(P[26]), float(P[27])], \n",
    "   [float(P[28]),float(P[29]),float(P[30]), float(P[31]), float(P[32]), float(P[33]), float(P[34])],\n",
    "   [float(P[35]),float(P[36]),float(P[37]), float(P[38]), float(P[39]), float(P[40]), float(P[41])],\n",
    "   [float(P[42]),float(P[43]),float(P[44]), float(P[45]), float(P[46]), float(P[47]), float(P[48])]\n",
    "  ]\n",
    "P=matrix(P)\n",
    "P"
   ]
  },
  {
   "cell_type": "code",
   "execution_count": 9,
   "metadata": {},
   "outputs": [],
   "source": [
    "import numpy as np\n",
    "\n",
    "def is_pos_def(x):\n",
    "    return np.all(np.linalg.eigvals(x) > 0)\n"
   ]
  },
  {
   "cell_type": "code",
   "execution_count": 10,
   "metadata": {},
   "outputs": [
    {
     "data": {
      "text/plain": [
       "True"
      ]
     },
     "execution_count": 10,
     "metadata": {},
     "output_type": "execute_result"
    }
   ],
   "source": [
    "is_pos_def(P)"
   ]
  },
  {
   "cell_type": "code",
   "execution_count": 11,
   "metadata": {},
   "outputs": [],
   "source": [
    "q=matrix([0.0,0.0,0.0,0.0,0.0,0.0,0.0])\n",
    "A=matrix([[1.0],[0.0],[0.0],[0.0],[0.0],[0.0],[0.0]])\n",
    "b=matrix([1.0])"
   ]
  },
  {
   "cell_type": "code",
   "execution_count": 12,
   "metadata": {},
   "outputs": [
    {
     "data": {
      "text/plain": [
       "{'status': 'optimal',\n",
       " 'x': <7x1 matrix, tc='d'>,\n",
       " 'y': <1x1 matrix, tc='d'>,\n",
       " 'z': <0x1 matrix, tc='d'>,\n",
       " 's': <0x1 matrix, tc='d'>,\n",
       " 'gap': 0.0,\n",
       " 'relgap': 0.0,\n",
       " 'primal objective': 0.6184180730891952,\n",
       " 'dual objective': 0.6184180730891952,\n",
       " 'primal slack': 0.0,\n",
       " 'dual slack': 0.0,\n",
       " 'primal infeasibility': 2.220446049250313e-16,\n",
       " 'dual infeasibility': 2.8441001681421824e-16,\n",
       " 'iterations': 0}"
      ]
     },
     "execution_count": 12,
     "metadata": {},
     "output_type": "execute_result"
    }
   ],
   "source": [
    "sol= solvers.qp(P=P,q=q,A=A,b=b)\n",
    "sol"
   ]
  },
  {
   "cell_type": "code",
   "execution_count": 13,
   "metadata": {},
   "outputs": [
    {
     "data": {
      "text/plain": [
       "[0.9999999999999998,\n",
       " 0.4505935009700236,\n",
       " -0.337701482524722,\n",
       " -0.8673076826238781,\n",
       " -0.016939659658083295,\n",
       " -0.016939659658084395,\n",
       " 0.11841807308919575]"
      ]
     },
     "execution_count": 13,
     "metadata": {},
     "output_type": "execute_result"
    }
   ],
   "source": [
    "Results=[]\n",
    "for i in range(0,len(sol['x'])):\n",
    "    Results.append(float(sol['x'][i]))\n",
    "\n",
    "Results"
   ]
  },
  {
   "cell_type": "code",
   "execution_count": 14,
   "metadata": {},
   "outputs": [],
   "source": [
    "coeff=Results[0]*N.col(0)+ Results[1]*N.col(1)+ Results[2]*N.col(2)+ Results[3]*N.col(3)+ Results[4]*N.col(4)+ Results[5]*N.col(5)++ Results[6]*N.col(6)"
   ]
  },
  {
   "cell_type": "code",
   "execution_count": 15,
   "metadata": {},
   "outputs": [
    {
     "data": {
      "text/plain": [
       "Matrix([\n",
       "[  0.450593500970022],\n",
       "[  0.450593500970024],\n",
       "[ -0.337701482524722],\n",
       "[ -0.867307682623878],\n",
       "[-0.0169396596580833],\n",
       "[-0.0169396596580844],\n",
       "[  0.118418073089196]])"
      ]
     },
     "execution_count": 15,
     "metadata": {},
     "output_type": "execute_result"
    }
   ],
   "source": [
    "coeff"
   ]
  },
  {
   "cell_type": "code",
   "execution_count": 29,
   "metadata": {},
   "outputs": [],
   "source": [
    "ac=[]\n",
    "for i in range(len(coeff)):\n",
    "    ac.append(coeff[i])\n",
    "    "
   ]
  },
  {
   "cell_type": "code",
   "execution_count": 36,
   "metadata": {},
   "outputs": [],
   "source": [
    "aaa=pd.DataFrame({'GK with Jump':ac})\n",
    "aaa.to_excel(\"GK with Jump.xlsx\")"
   ]
  },
  {
   "cell_type": "code",
   "execution_count": 39,
   "metadata": {},
   "outputs": [
    {
     "data": {
      "text/plain": [
       "'C:\\\\Users\\\\abhishek.chand\\\\Desktop\\\\Volatiity Estimation\\\\Garman and Klass'"
      ]
     },
     "execution_count": 39,
     "metadata": {},
     "output_type": "execute_result"
    }
   ],
   "source": [
    "import os\n",
    "os.getcwd()\n"
   ]
  },
  {
   "cell_type": "code",
   "execution_count": 19,
   "metadata": {},
   "outputs": [],
   "source": [
    "GK= [[3.0,0.2274,2.0,-0.4318,2.25,-0.1881,1.0],\n",
    "     [0.2274,3.0,2.0,-0.4318,-0.1881,2.25,1.0],\n",
    "     [2.0,2.0,3.0,-0.4381,1.5,1.5,1.0],\n",
    "     [-0.4318,-0.4318,-0.4381,0.2274,-0.1881,-0.1881,(1-2*math.log(2))],\n",
    "     [2.25,-0.1881,1.5,-0.1881,2.0,-0.4381,0.5],\n",
    "     [-0.1881,2.25,1.5,-0.1881,-0.4381,2.0,0.5],\n",
    "    [1.0,1.0,1.0,(1-2*math.log(2)),0.5,0.5,3.0]]\n",
    "GK=matrix(GK)\n",
    "q=matrix([0.0,0.0,0.0,0.0,0.0,0.0,0.0])\n",
    "A=matrix([[1.0],[1.0],[1.0],[(1-2*math.log(2))],[0.5],[0.5],[1.0]])\n",
    "b=matrix([1.0])"
   ]
  },
  {
   "cell_type": "code",
   "execution_count": 20,
   "metadata": {},
   "outputs": [
    {
     "data": {
      "text/plain": [
       "<1x7 matrix, tc='d'>"
      ]
     },
     "execution_count": 20,
     "metadata": {},
     "output_type": "execute_result"
    }
   ],
   "source": [
    "A"
   ]
  },
  {
   "cell_type": "code",
   "execution_count": 21,
   "metadata": {},
   "outputs": [
    {
     "data": {
      "text/plain": [
       "{'status': 'optimal',\n",
       " 'x': <7x1 matrix, tc='d'>,\n",
       " 'y': <1x1 matrix, tc='d'>,\n",
       " 'z': <0x1 matrix, tc='d'>,\n",
       " 's': <0x1 matrix, tc='d'>,\n",
       " 'gap': 0.0,\n",
       " 'relgap': 0.0,\n",
       " 'primal objective': 0.6184180730891957,\n",
       " 'dual objective': 0.6184180730891957,\n",
       " 'primal slack': 0.0,\n",
       " 'dual slack': 0.0,\n",
       " 'primal infeasibility': 8.326672684688674e-17,\n",
       " 'dual infeasibility': 2.7194799110210365e-16,\n",
       " 'iterations': 0}"
      ]
     },
     "execution_count": 21,
     "metadata": {},
     "output_type": "execute_result"
    }
   ],
   "source": [
    "sol= solvers.qp(P=GK,q=q,A=A,b=b)\n",
    "sol"
   ]
  },
  {
   "cell_type": "code",
   "execution_count": 22,
   "metadata": {},
   "outputs": [
    {
     "data": {
      "text/plain": [
       "[0.4505935009700267,\n",
       " 0.4505935009700267,\n",
       " -0.33770148252471666,\n",
       " -0.8673076826238683,\n",
       " -0.016939659658092666,\n",
       " -0.016939659658092587,\n",
       " 0.11841807308919577]"
      ]
     },
     "execution_count": 22,
     "metadata": {},
     "output_type": "execute_result"
    }
   ],
   "source": [
    "Results=[]\n",
    "for i in range(0,len(sol['x'])):\n",
    "    Results.append(float(sol['x'][i]))\n",
    "\n",
    "Results"
   ]
  },
  {
   "cell_type": "code",
   "execution_count": 23,
   "metadata": {},
   "outputs": [],
   "source": [
    "final=pd.DataFrame(Results)\n",
    "final.to_excel(\"gk_jump.xlsx\")"
   ]
  },
  {
   "cell_type": "code",
   "execution_count": null,
   "metadata": {},
   "outputs": [],
   "source": []
  }
 ],
 "metadata": {
  "kernelspec": {
   "display_name": "Python 3",
   "language": "python",
   "name": "python3"
  },
  "language_info": {
   "codemirror_mode": {
    "name": "ipython",
    "version": 3
   },
   "file_extension": ".py",
   "mimetype": "text/x-python",
   "name": "python",
   "nbconvert_exporter": "python",
   "pygments_lexer": "ipython3",
   "version": "3.6.5"
  }
 },
 "nbformat": 4,
 "nbformat_minor": 2
}
