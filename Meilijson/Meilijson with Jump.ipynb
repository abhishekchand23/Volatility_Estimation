{
 "cells": [
  {
   "cell_type": "code",
   "execution_count": 1,
   "metadata": {},
   "outputs": [],
   "source": [
    "import cvxopt\n",
    "from cvxopt import solvers\n",
    "from cvxopt import matrix\n",
    "import numpy as np\n",
    "from scipy.linalg import null_space\n",
    "import math\n",
    "from sympy import Matrix\n",
    "import sympy\n",
    "import pandas as pd"
   ]
  },
  {
   "cell_type": "code",
   "execution_count": 2,
   "metadata": {},
   "outputs": [],
   "source": [
    "kmj=[[1.75,0.25,1,(1-2*math.log(2)),1.25,-0.25,1.0]]\n",
    "kmj=Matrix(kmj)\n",
    "N=Matrix()\n",
    "for i in range (0,len(kmj.nullspace())):\n",
    "                N=N.col_insert(i,kmj.nullspace()[i])"
   ]
  },
  {
   "cell_type": "code",
   "execution_count": 3,
   "metadata": {},
   "outputs": [
    {
     "data": {
      "text/plain": [
       "Matrix([\n",
       "[-0.142857142857143, -0.571428571428571, 0.220739634925652, -0.714285714285714, 0.142857142857143, -0.571428571428571],\n",
       "[                 1,                  0,                 0,                  0,                 0,                  0],\n",
       "[                 0,                  1,                 0,                  0,                 0,                  0],\n",
       "[                 0,                  0,                 1,                  0,                 0,                  0],\n",
       "[                 0,                  0,                 0,                  1,                 0,                  0],\n",
       "[                 0,                  0,                 0,                  0,                 1,                  0],\n",
       "[                 0,                  0,                 0,                  0,                 0,                  1]])"
      ]
     },
     "execution_count": 3,
     "metadata": {},
     "output_type": "execute_result"
    }
   ],
   "source": [
    "N"
   ]
  },
  {
   "cell_type": "code",
   "execution_count": 4,
   "metadata": {},
   "outputs": [],
   "source": [
    "MJ=[[5.8125  , 0.22741 , 3.875, -0.7159  , 4.59375 ,-0.53376,1.75],\n",
    "[0.22741 , 0.1875  , 0.125   , -0.1478  , 0.15758 , -0.09375,0.25],\n",
    "[3.875   , 0.125   , 3.0     , -0.43808 , 3.375   , -0.375, 1.0  ],\n",
    "[-0.7159 , -0.1478 , -0.43808,  0.22741 , -0.53376,  0.15758, -0.38629],\n",
    "[4.59375 ,  0.15758, 3.375   , -0.53376 , 3.875   , -0.43808, 1.25],\n",
    "[-0.53376, -0.09375, -0.375  ,  0.15758 , -0.43808, 0.125,-0.25],\n",
    "[1.75,0.25,1.0,-0.38629,1.25,-0.25,3.0]]\n",
    "MJ=Matrix(MJ)"
   ]
  },
  {
   "cell_type": "code",
   "execution_count": 5,
   "metadata": {},
   "outputs": [
    {
     "data": {
      "text/plain": [
       "Matrix([\n",
       "[  5.8125,  0.22741,    3.875,  -0.7159,  4.59375, -0.53376,     1.75],\n",
       "[ 0.22741,   0.1875,    0.125,  -0.1478,  0.15758, -0.09375,     0.25],\n",
       "[   3.875,    0.125,      3.0, -0.43808,    3.375,   -0.375,      1.0],\n",
       "[ -0.7159,  -0.1478, -0.43808,  0.22741, -0.53376,  0.15758, -0.38629],\n",
       "[ 4.59375,  0.15758,    3.375, -0.53376,    3.875, -0.43808,     1.25],\n",
       "[-0.53376, -0.09375,   -0.375,  0.15758, -0.43808,    0.125,    -0.25],\n",
       "[    1.75,     0.25,      1.0, -0.38629,     1.25,    -0.25,      3.0]])"
      ]
     },
     "execution_count": 5,
     "metadata": {},
     "output_type": "execute_result"
    }
   ],
   "source": [
    "MJ"
   ]
  },
  {
   "cell_type": "code",
   "execution_count": 6,
   "metadata": {},
   "outputs": [
    {
     "data": {
      "text/plain": [
       "Matrix([\n",
       "[0.5, -0.142857142857143, -0.571428571428571, 0.220739634925652, -0.714285714285714, 0.142857142857143, -0.571428571428571],\n",
       "[0.5,                  1,                  0,                 0,                  0,                 0,                  0],\n",
       "[  0,                  0,                  1,                 0,                  0,                 0,                  0],\n",
       "[  0,                  0,                  0,                 1,                  0,                 0,                  0],\n",
       "[  0,                  0,                  0,                 0,                  1,                 0,                  0],\n",
       "[  0,                  0,                  0,                 0,                  0,                 1,                  0],\n",
       "[  0,                  0,                  0,                 0,                  0,                 0,                  1]])"
      ]
     },
     "execution_count": 6,
     "metadata": {},
     "output_type": "execute_result"
    }
   ],
   "source": [
    "N=N.col_insert(0,Matrix([0.5,0.5,0,0,0,0,0]))\n",
    "N"
   ]
  },
  {
   "cell_type": "code",
   "execution_count": 7,
   "metadata": {},
   "outputs": [
    {
     "data": {
      "text/plain": [
       "Matrix([\n",
       "[               0.5, 0.5, 0, 0, 0, 0, 0],\n",
       "[-0.142857142857143,   1, 0, 0, 0, 0, 0],\n",
       "[-0.571428571428571,   0, 1, 0, 0, 0, 0],\n",
       "[ 0.220739634925652,   0, 0, 1, 0, 0, 0],\n",
       "[-0.714285714285714,   0, 0, 0, 1, 0, 0],\n",
       "[ 0.142857142857143,   0, 0, 0, 0, 1, 0],\n",
       "[-0.571428571428571,   0, 0, 0, 0, 0, 1]])"
      ]
     },
     "execution_count": 7,
     "metadata": {},
     "output_type": "execute_result"
    }
   ],
   "source": [
    "Nt=sympy.functions.transpose(N)\n",
    "Nt"
   ]
  },
  {
   "cell_type": "code",
   "execution_count": 8,
   "metadata": {},
   "outputs": [
    {
     "data": {
      "text/plain": [
       "Matrix([\n",
       "[          1.613705,  -0.223967142857143,   0.274311428571429,  0.234773764191897,   0.218554285714286,   0.117667142857143, -0.725688571428571],\n",
       "[-0.223967142857143,   0.241148163265306, -0.0840302040816326, -0.178622903622322, -0.0679934693877551,   -0.10363387755102,  0.344541224489796],\n",
       "[ 0.274311428571429, -0.0840302040816327,   0.469387755102041,  0.093200869333843,   0.354591836734694, 0.00908734693877553, -0.316326530612245],\n",
       "[ 0.234773764191897,  -0.178622903622322,   0.093200869333843,  0.194574786821029,  0.0751561779358908,   0.120779316462849, -0.324080854883167],\n",
       "[ 0.218554285714286, -0.0679934693877551,   0.354591836734694, 0.0751561779358907,   0.278061224489796, 0.00631489795918362, -0.252551020408163],\n",
       "[ 0.117667142857143,   -0.10363387755102, 0.00908734693877547,  0.120779316462849, 0.00631489795918369,  0.0911195918367347, -0.169484081632653],\n",
       "[-0.725688571428571,   0.344541224489796,  -0.316326530612245, -0.324080854883167,  -0.252551020408163,  -0.169484081632653,   2.89795918367347]])"
      ]
     },
     "execution_count": 8,
     "metadata": {},
     "output_type": "execute_result"
    }
   ],
   "source": [
    "P=Nt*MJ*N\n",
    "P"
   ]
  },
  {
   "cell_type": "code",
   "execution_count": 9,
   "metadata": {},
   "outputs": [
    {
     "data": {
      "text/plain": [
       "<7x7 matrix, tc='d'>"
      ]
     },
     "execution_count": 9,
     "metadata": {},
     "output_type": "execute_result"
    }
   ],
   "source": [
    "P=[[float(P[0]), float(P[1]), float(P[2]), float(P[3]), float(P[4]),float(P[5]) ,float(P[6])], \n",
    "   [float(P[7]), float(P[8]), float(P[9]), float(P[10]),float(P[11]),float(P[12]), float(P[13])], \n",
    "   [float(P[14]), float(P[15]), float(P[16]),float(P[17]),float(P[18]), float(P[19]), float(P[20])], \n",
    "   [float(P[21]), float(P[22]),float(P[23]) ,float(P[24]), float(P[25]), float(P[26]), float(P[27])], \n",
    "   [float(P[28]),float(P[29]),float(P[30]), float(P[31]), float(P[32]), float(P[33]), float(P[34])],\n",
    "   [float(P[35]),float(P[36]),float(P[37]), float(P[38]), float(P[39]), float(P[40]), float(P[41])],\n",
    "   [float(P[42]),float(P[43]),float(P[44]), float(P[45]), float(P[46]), float(P[47]), float(P[48])]\n",
    "  ]\n",
    "P=matrix(P)\n",
    "P"
   ]
  },
  {
   "cell_type": "code",
   "execution_count": 10,
   "metadata": {},
   "outputs": [],
   "source": [
    "import numpy as np\n",
    "\n",
    "def is_pos_def(x):\n",
    "    return np.all(np.linalg.eigvals(x) > 0)\n"
   ]
  },
  {
   "cell_type": "code",
   "execution_count": 11,
   "metadata": {},
   "outputs": [
    {
     "data": {
      "text/plain": [
       "True"
      ]
     },
     "execution_count": 11,
     "metadata": {},
     "output_type": "execute_result"
    }
   ],
   "source": [
    "is_pos_def(P)"
   ]
  },
  {
   "cell_type": "code",
   "execution_count": 12,
   "metadata": {},
   "outputs": [],
   "source": [
    "q=matrix([0.0,0.0,0.0,0.0,0.0,0.0,0.0])\n",
    "A=matrix([[1.0],[0.0],[0.0],[0.0],[0.0],[0.0],[0.0]])\n",
    "b=matrix([1.0])"
   ]
  },
  {
   "cell_type": "code",
   "execution_count": 13,
   "metadata": {},
   "outputs": [
    {
     "data": {
      "text/plain": [
       "{'status': 'optimal',\n",
       " 'x': <7x1 matrix, tc='d'>,\n",
       " 'y': <1x1 matrix, tc='d'>,\n",
       " 'z': <0x1 matrix, tc='d'>,\n",
       " 's': <0x1 matrix, tc='d'>,\n",
       " 'gap': 0.0,\n",
       " 'relgap': 0.0,\n",
       " 'primal objective': 0.6146464168728593,\n",
       " 'dual objective': 0.6146464168728593,\n",
       " 'primal slack': 0.0,\n",
       " 'dual slack': 0.0,\n",
       " 'primal infeasibility': 0.0,\n",
       " 'dual infeasibility': 4.83387474499269e-16,\n",
       " 'iterations': 0}"
      ]
     },
     "execution_count": 13,
     "metadata": {},
     "output_type": "execute_result"
    }
   ],
   "source": [
    "sol= solvers.qp(P=P,q=q,A=A,b=b)\n",
    "sol"
   ]
  },
  {
   "cell_type": "code",
   "execution_count": 14,
   "metadata": {},
   "outputs": [
    {
     "data": {
      "text/plain": [
       "[1.0,\n",
       " -0.01707739401222482,\n",
       " -0.018983896943792492,\n",
       " -1.3013074134170857,\n",
       " -0.3249058677468043,\n",
       " 0.6517760181522768,\n",
       " 0.11464925445168143]"
      ]
     },
     "execution_count": 14,
     "metadata": {},
     "output_type": "execute_result"
    }
   ],
   "source": [
    "Results=[]\n",
    "for i in range(0,len(sol['x'])):\n",
    "    Results.append(float(sol['x'][i]))\n",
    "\n",
    "Results"
   ]
  },
  {
   "cell_type": "code",
   "execution_count": 15,
   "metadata": {},
   "outputs": [],
   "source": [
    "coeff=Results[0]*N.col(0)+ Results[1]*N.col(1)+ Results[2]*N.col(2)+ Results[3]*N.col(3)+ Results[4]*N.col(4)+ Results[5]*N.col(5)++ Results[6]*N.col(6)"
   ]
  },
  {
   "cell_type": "code",
   "execution_count": 16,
   "metadata": {},
   "outputs": [
    {
     "data": {
      "text/plain": [
       "Matrix([\n",
       "[  0.485710065331549],\n",
       "[  0.482922605987775],\n",
       "[-0.0189838969437925],\n",
       "[  -1.30130741341709],\n",
       "[ -0.324905867746804],\n",
       "[  0.651776018152277],\n",
       "[  0.114649254451681]])"
      ]
     },
     "execution_count": 16,
     "metadata": {},
     "output_type": "execute_result"
    }
   ],
   "source": [
    "coeff"
   ]
  },
  {
   "cell_type": "code",
   "execution_count": 19,
   "metadata": {},
   "outputs": [],
   "source": [
    "ac=[]\n",
    "for i in range(len(coeff)):\n",
    "    ac.append(coeff[i])\n",
    "aaa=pd.DataFrame({'Meilijson with Jump':ac})\n",
    "aaa.to_excel(\"Meilijson with Jump.xlsx\")"
   ]
  },
  {
   "cell_type": "code",
   "execution_count": 18,
   "metadata": {},
   "outputs": [
    {
     "data": {
      "text/plain": [
       "[0.485710065331549,\n",
       " 0.482922605987775,\n",
       " -0.0189838969437925,\n",
       " -1.30130741341709,\n",
       " -0.324905867746804,\n",
       " 0.651776018152277,\n",
       " 0.114649254451681]"
      ]
     },
     "execution_count": 18,
     "metadata": {},
     "output_type": "execute_result"
    }
   ],
   "source": [
    "ac"
   ]
  },
  {
   "cell_type": "code",
   "execution_count": null,
   "metadata": {},
   "outputs": [],
   "source": []
  }
 ],
 "metadata": {
  "kernelspec": {
   "display_name": "Python 3",
   "language": "python",
   "name": "python3"
  },
  "language_info": {
   "codemirror_mode": {
    "name": "ipython",
    "version": 3
   },
   "file_extension": ".py",
   "mimetype": "text/x-python",
   "name": "python",
   "nbconvert_exporter": "python",
   "pygments_lexer": "ipython3",
   "version": "3.6.5"
  }
 },
 "nbformat": 4,
 "nbformat_minor": 2
}
