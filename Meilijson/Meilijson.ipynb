{
 "cells": [
  {
   "cell_type": "code",
   "execution_count": 1,
   "metadata": {},
   "outputs": [],
   "source": [
    "import cvxopt\n",
    "from cvxopt import solvers\n",
    "from cvxopt import matrix\n",
    "import numpy as np\n",
    "from scipy.linalg import null_space\n",
    "import math\n",
    "from sympy import Matrix\n",
    "import sympy"
   ]
  },
  {
   "cell_type": "code",
   "execution_count": 2,
   "metadata": {},
   "outputs": [],
   "source": [
    "kmj=[[1.75,0.25,1,(1-2*math.log(2)),1.25,-0.25]]\n",
    "kmj=Matrix(kmj)\n",
    "N=Matrix()\n",
    "for i in range (0,len(kmj.nullspace())):\n",
    "                N=N.col_insert(i,kmj.nullspace()[i])"
   ]
  },
  {
   "cell_type": "code",
   "execution_count": 3,
   "metadata": {},
   "outputs": [
    {
     "data": {
      "text/latex": [
       "$\\displaystyle \\left[\\begin{matrix}-0.142857142857143 & -0.571428571428571 & 0.220739634925652 & -0.714285714285714 & 0.142857142857143\\\\1 & 0 & 0 & 0 & 0\\\\0 & 1 & 0 & 0 & 0\\\\0 & 0 & 1 & 0 & 0\\\\0 & 0 & 0 & 1 & 0\\\\0 & 0 & 0 & 0 & 1\\end{matrix}\\right]$"
      ],
      "text/plain": [
       "Matrix([\n",
       "[-0.142857142857143, -0.571428571428571, 0.220739634925652, -0.714285714285714, 0.142857142857143],\n",
       "[                 1,                  0,                 0,                  0,                 0],\n",
       "[                 0,                  1,                 0,                  0,                 0],\n",
       "[                 0,                  0,                 1,                  0,                 0],\n",
       "[                 0,                  0,                 0,                  1,                 0],\n",
       "[                 0,                  0,                 0,                  0,                 1]])"
      ]
     },
     "execution_count": 3,
     "metadata": {},
     "output_type": "execute_result"
    }
   ],
   "source": [
    "N"
   ]
  },
  {
   "cell_type": "code",
   "execution_count": 4,
   "metadata": {},
   "outputs": [],
   "source": [
    "MJ=[[5.8125  , 0.22741 , 3.875, -0.7159  , 4.59375 ,-0.53376],\n",
    "[0.22741 , 0.1875  , 0.125   , -0.1478  , 0.15758 , -0.09375],\n",
    "[3.875   , 0.125   , 3.0     , -0.43808 , 3.375   , -0.375  ],\n",
    "[-0.7159 , -0.1478 , -0.43808,  0.22741 , -0.53376,  0.15758],\n",
    "[4.59375 ,  0.15758, 3.375   , -0.53376 , 3.875   , -0.43808],\n",
    "[-0.53376, -0.09375, -0.375  ,  0.15758 , -0.43808, 0.125]]\n",
    "MJ=Matrix(MJ)"
   ]
  },
  {
   "cell_type": "code",
   "execution_count": 5,
   "metadata": {},
   "outputs": [
    {
     "data": {
      "text/latex": [
       "$\\displaystyle \\left[\\begin{matrix}0.5 & 0.5 & 0 & 0 & 0 & 0\\\\-0.142857142857143 & 1 & 0 & 0 & 0 & 0\\\\-0.571428571428571 & 0 & 1 & 0 & 0 & 0\\\\0.220739634925652 & 0 & 0 & 1 & 0 & 0\\\\-0.714285714285714 & 0 & 0 & 0 & 1 & 0\\\\0.142857142857143 & 0 & 0 & 0 & 0 & 1\\end{matrix}\\right]$"
      ],
      "text/plain": [
       "Matrix([\n",
       "[               0.5, 0.5, 0, 0, 0, 0],\n",
       "[-0.142857142857143,   1, 0, 0, 0, 0],\n",
       "[-0.571428571428571,   0, 1, 0, 0, 0],\n",
       "[ 0.220739634925652,   0, 0, 1, 0, 0],\n",
       "[-0.714285714285714,   0, 0, 0, 1, 0],\n",
       "[ 0.142857142857143,   0, 0, 0, 0, 1]])"
      ]
     },
     "execution_count": 5,
     "metadata": {},
     "output_type": "execute_result"
    }
   ],
   "source": [
    "N=N.col_insert(0,Matrix([0.5,0.5,0,0,0,0]))\n",
    "N\n",
    "Nt=sympy.functions.transpose(N)\n",
    "Nt"
   ]
  },
  {
   "cell_type": "code",
   "execution_count": 6,
   "metadata": {},
   "outputs": [
    {
     "data": {
      "text/latex": [
       "$\\displaystyle \\left[\\begin{matrix}1.613705 & -0.223967142857143 & 0.274311428571429 & 0.234773764191897 & 0.218554285714286 & 0.117667142857143\\\\-0.223967142857143 & 0.241148163265306 & -0.0840302040816326 & -0.178622903622322 & -0.0679934693877551 & -0.10363387755102\\\\0.274311428571429 & -0.0840302040816327 & 0.469387755102041 & 0.093200869333843 & 0.354591836734694 & 0.00908734693877553\\\\0.234773764191897 & -0.178622903622322 & 0.093200869333843 & 0.194574786821029 & 0.0751561779358908 & 0.120779316462849\\\\0.218554285714286 & -0.0679934693877551 & 0.354591836734694 & 0.0751561779358907 & 0.278061224489796 & 0.00631489795918362\\\\0.117667142857143 & -0.10363387755102 & 0.00908734693877547 & 0.120779316462849 & 0.00631489795918369 & 0.0911195918367347\\end{matrix}\\right]$"
      ],
      "text/plain": [
       "Matrix([\n",
       "[          1.613705,  -0.223967142857143,   0.274311428571429,  0.234773764191897,   0.218554285714286,   0.117667142857143],\n",
       "[-0.223967142857143,   0.241148163265306, -0.0840302040816326, -0.178622903622322, -0.0679934693877551,   -0.10363387755102],\n",
       "[ 0.274311428571429, -0.0840302040816327,   0.469387755102041,  0.093200869333843,   0.354591836734694, 0.00908734693877553],\n",
       "[ 0.234773764191897,  -0.178622903622322,   0.093200869333843,  0.194574786821029,  0.0751561779358908,   0.120779316462849],\n",
       "[ 0.218554285714286, -0.0679934693877551,   0.354591836734694, 0.0751561779358907,   0.278061224489796, 0.00631489795918362],\n",
       "[ 0.117667142857143,   -0.10363387755102, 0.00908734693877547,  0.120779316462849, 0.00631489795918369,  0.0911195918367347]])"
      ]
     },
     "execution_count": 6,
     "metadata": {},
     "output_type": "execute_result"
    }
   ],
   "source": [
    "P=Nt*MJ*N\n",
    "P"
   ]
  },
  {
   "cell_type": "code",
   "execution_count": 7,
   "metadata": {},
   "outputs": [
    {
     "data": {
      "text/plain": [
       "<6x6 matrix, tc='d'>"
      ]
     },
     "execution_count": 7,
     "metadata": {},
     "output_type": "execute_result"
    }
   ],
   "source": [
    "P=[[float(P[0]), float(P[1]), float(P[2]), float(P[3]), float(P[4]),float(P[5])] ,\n",
    "   [float(P[6]), float(P[7]), float(P[8]), float(P[9]), float(P[10]),float(P[11])] ,\n",
    "   [float(P[12]), float(P[13]), float(P[14]), float(P[15]), float(P[16]),float(P[17])] ,\n",
    "   [float(P[18]), float(P[19]), float(P[20]), float(P[21]), float(P[22]),float(P[23])] ,\n",
    "   [float(P[24]), float(P[25]), float(P[26]), float(P[27]), float(P[28]),float(P[29])] ,\n",
    "   [float(P[30]), float(P[31]), float(P[32]), float(P[33]), float(P[34]),float(P[35])] ,\n",
    "  ]\n",
    "P=matrix(P)\n",
    "P"
   ]
  },
  {
   "cell_type": "code",
   "execution_count": 8,
   "metadata": {},
   "outputs": [],
   "source": [
    "import numpy as np\n",
    "def is_pos_def(x):\n",
    "    return np.all(np.linalg.eigvals(x) > 0)"
   ]
  },
  {
   "cell_type": "code",
   "execution_count": 9,
   "metadata": {},
   "outputs": [
    {
     "data": {
      "text/plain": [
       "True"
      ]
     },
     "execution_count": 9,
     "metadata": {},
     "output_type": "execute_result"
    }
   ],
   "source": [
    "is_pos_def(P)"
   ]
  },
  {
   "cell_type": "code",
   "execution_count": 10,
   "metadata": {},
   "outputs": [],
   "source": [
    "q=matrix([0.0,0.0,0.0,0.0,0.0,0.0])\n",
    "A=matrix([[1],[0.0],[0.0],[0.0],[0.0],[0.0]])\n",
    "b=matrix([1.0])"
   ]
  },
  {
   "cell_type": "code",
   "execution_count": 11,
   "metadata": {},
   "outputs": [
    {
     "data": {
      "text/plain": [
       "{'status': 'optimal',\n",
       " 'x': <6x1 matrix, tc='d'>,\n",
       " 'y': <1x1 matrix, tc='d'>,\n",
       " 'z': <0x1 matrix, tc='d'>,\n",
       " 's': <0x1 matrix, tc='d'>,\n",
       " 'gap': 0.0,\n",
       " 'relgap': 0.0,\n",
       " 'primal objective': 0.6294930680203963,\n",
       " 'dual objective': 0.6294930680203963,\n",
       " 'primal slack': 0.0,\n",
       " 'dual slack': 0.0,\n",
       " 'primal infeasibility': 0.0,\n",
       " 'dual infeasibility': 2.313889635526404e-16,\n",
       " 'iterations': 0}"
      ]
     },
     "execution_count": 11,
     "metadata": {},
     "output_type": "execute_result"
    }
   ],
   "source": [
    "sol=solvers.qp(P=P,q=q,A=A,b=b)\n",
    "sol"
   ]
  },
  {
   "cell_type": "code",
   "execution_count": 12,
   "metadata": {},
   "outputs": [
    {
     "data": {
      "text/plain": [
       "[1.0,\n",
       " 0.04547075118992724,\n",
       " -0.021433343739381116,\n",
       " -1.469771867123826,\n",
       " -0.3670005093370463,\n",
       " 0.7361265619977858]"
      ]
     },
     "execution_count": 12,
     "metadata": {},
     "output_type": "execute_result"
    }
   ],
   "source": [
    "Results=[]\n",
    "for i in range(0,len(sol['x'])):\n",
    "    Results.append(float(sol['x'][i]))\n",
    "Results"
   ]
  },
  {
   "cell_type": "code",
   "execution_count": 13,
   "metadata": {},
   "outputs": [],
   "source": [
    "coeff=Results[0]*N.col(0)+ Results[1]*N.col(1)+ Results[2]*N.col(2)+ Results[3]*N.col(3)+ Results[4]*N.col(4)+ Results[5]*N.col(5)"
   ]
  },
  {
   "cell_type": "code",
   "execution_count": 14,
   "metadata": {},
   "outputs": [
    {
     "data": {
      "text/latex": [
       "$\\displaystyle \\left[\\begin{matrix}0.548619056405752\\\\0.545470751189927\\\\-0.0214333437393811\\\\-1.46977186712383\\\\-0.367000509337046\\\\0.736126561997786\\end{matrix}\\right]$"
      ],
      "text/plain": [
       "Matrix([\n",
       "[  0.548619056405752],\n",
       "[  0.545470751189927],\n",
       "[-0.0214333437393811],\n",
       "[  -1.46977186712383],\n",
       "[ -0.367000509337046],\n",
       "[  0.736126561997786]])"
      ]
     },
     "execution_count": 14,
     "metadata": {},
     "output_type": "execute_result"
    }
   ],
   "source": [
    "coeff"
   ]
  },
  {
   "cell_type": "code",
   "execution_count": 15,
   "metadata": {},
   "outputs": [],
   "source": [
    "MJ=[[5.8125  , 0.22741 , 3.875, -0.7159  , 4.59375 ,-0.53376],\n",
    "[0.22741 , 0.1875  , 0.125   , -0.1478  , 0.15758 , -0.09375],\n",
    "[3.875   , 0.125   , 3.0     , -0.43808 , 3.375   , -0.375  ],\n",
    "[-0.7159 , -0.1478 , -0.43808,  0.22741 , -0.53376,  0.15758],\n",
    "[4.59375 ,  0.15758, 3.375   , -0.53376 , 3.875   , -0.43808],\n",
    "[-0.53376, -0.09375, -0.375  ,  0.15758 , -0.43808, 0.125]]\n",
    "MJ=matrix(MJ)\n",
    "q=matrix([0.0,0.0,0.0,0.0,0.0,0.0])\n",
    "A=matrix([[1.75],[0.25],[1.0],[(1-2*math.log(2))],[1.25],[-0.25]])\n",
    "b=matrix([1.0])"
   ]
  },
  {
   "cell_type": "code",
   "execution_count": 16,
   "metadata": {},
   "outputs": [
    {
     "data": {
      "text/plain": [
       "{'status': 'optimal',\n",
       " 'x': <6x1 matrix, tc='d'>,\n",
       " 'y': <1x1 matrix, tc='d'>,\n",
       " 'z': <0x1 matrix, tc='d'>,\n",
       " 's': <0x1 matrix, tc='d'>,\n",
       " 'gap': 0.0,\n",
       " 'relgap': 0.0,\n",
       " 'primal objective': 0.6294930680203961,\n",
       " 'dual objective': 0.6294930680203961,\n",
       " 'primal slack': 0.0,\n",
       " 'dual slack': 0.0,\n",
       " 'primal infeasibility': 5.551115123125783e-17,\n",
       " 'dual infeasibility': 6.684427777288335e-16,\n",
       " 'iterations': 0}"
      ]
     },
     "execution_count": 16,
     "metadata": {},
     "output_type": "execute_result"
    }
   ],
   "source": [
    "sol= solvers.qp(P=MJ,q=q,A=A,b=b)\n",
    "sol"
   ]
  },
  {
   "cell_type": "code",
   "execution_count": 17,
   "metadata": {},
   "outputs": [
    {
     "data": {
      "text/plain": [
       "[0.5486190564057675,\n",
       " 0.5454707511899285,\n",
       " -0.021433343739346612,\n",
       " -1.469771867123814,\n",
       " -0.3670005093370945,\n",
       " 0.7361265619977719]"
      ]
     },
     "execution_count": 17,
     "metadata": {},
     "output_type": "execute_result"
    }
   ],
   "source": [
    "Results=[]\n",
    "for i in range(0,len(sol['x'])):\n",
    "    Results.append(float(sol['x'][i]))\n",
    "Results"
   ]
  },
  {
   "cell_type": "code",
   "execution_count": null,
   "metadata": {},
   "outputs": [],
   "source": []
  }
 ],
 "metadata": {
  "kernelspec": {
   "display_name": "Python 3",
   "language": "python",
   "name": "python3"
  },
  "language_info": {
   "codemirror_mode": {
    "name": "ipython",
    "version": 3
   },
   "file_extension": ".py",
   "mimetype": "text/x-python",
   "name": "python",
   "nbconvert_exporter": "python",
   "pygments_lexer": "ipython3",
   "version": "3.6.5"
  }
 },
 "nbformat": 4,
 "nbformat_minor": 2
}
