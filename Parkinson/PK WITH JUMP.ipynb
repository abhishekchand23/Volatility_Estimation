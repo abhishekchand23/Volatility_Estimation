{
 "cells": [
  {
   "cell_type": "code",
   "execution_count": 2,
   "metadata": {},
   "outputs": [],
   "source": [
    "import cvxopt\n",
    "from cvxopt import solvers\n",
    "from cvxopt import matrix\n",
    "import numpy as np\n",
    "from scipy.linalg import null_space\n",
    "import math\n",
    "from sympy import Matrix\n",
    "import sympy"
   ]
  },
  {
   "cell_type": "markdown",
   "metadata": {},
   "source": [
    "### Parkinson Cov_Var Matrix"
   ]
  },
  {
   "cell_type": "code",
   "execution_count": 22,
   "metadata": {},
   "outputs": [],
   "source": [
    "PK= [[3.0,0.2274,-0.4318,1.0],\n",
    "     [0.2274,3.0,-0.4318,1.0],\n",
    "     [-0.4318,-0.4318,0.2274,(1-2*math.log(2))],\n",
    "    [1.0,1.0,(1-2*math.log(2)),3.0]]\n",
    "PK=Matrix(PK)"
   ]
  },
  {
   "cell_type": "markdown",
   "metadata": {},
   "source": [
    "### Nullspace of k"
   ]
  },
  {
   "cell_type": "code",
   "execution_count": 23,
   "metadata": {},
   "outputs": [],
   "source": [
    "kpk=[[1,1,(1-2*math.log(2)),1]]\n",
    "kpk=Matrix(kpk)\n",
    "N=Matrix()\n",
    "for i in range (0,len(kpk.nullspace())):\n",
    "                N=N.col_insert(i,kpk.nullspace()[i])"
   ]
  },
  {
   "cell_type": "code",
   "execution_count": 24,
   "metadata": {},
   "outputs": [
    {
     "data": {
      "text/plain": [
       "Matrix([[1, 1, -0.386294361119891, 1]])"
      ]
     },
     "execution_count": 24,
     "metadata": {},
     "output_type": "execute_result"
    }
   ],
   "source": [
    "kpk"
   ]
  },
  {
   "cell_type": "code",
   "execution_count": 25,
   "metadata": {},
   "outputs": [
    {
     "data": {
      "text/plain": [
       "Matrix([\n",
       "[-1, 0.386294361119891, -1],\n",
       "[ 1,                 0,  0],\n",
       "[ 0,                 1,  0],\n",
       "[ 0,                 0,  1]])"
      ]
     },
     "execution_count": 25,
     "metadata": {},
     "output_type": "execute_result"
    }
   ],
   "source": [
    "N"
   ]
  },
  {
   "cell_type": "code",
   "execution_count": 26,
   "metadata": {},
   "outputs": [
    {
     "data": {
      "text/plain": [
       "Matrix([\n",
       "[1.0, -1, 0.386294361119891, -1],\n",
       "[0.0,  1,                 0,  0],\n",
       "[0.0,  0,                 1,  0],\n",
       "[0.0,  0,                 0,  1]])"
      ]
     },
     "execution_count": 26,
     "metadata": {},
     "output_type": "execute_result"
    }
   ],
   "source": [
    "N=N.col_insert(0,Matrix([1.0,0.0,0.0,0.0]))\n",
    "N"
   ]
  },
  {
   "cell_type": "code",
   "execution_count": 27,
   "metadata": {},
   "outputs": [
    {
     "data": {
      "text/plain": [
       "Matrix([\n",
       "[1.0, -1, 0.386294361119891, -1],\n",
       "[0.0,  1,                 0,  0],\n",
       "[0.0,  0,                 1,  0],\n",
       "[0.0,  0,                 0,  1]])"
      ]
     },
     "execution_count": 27,
     "metadata": {},
     "output_type": "execute_result"
    }
   ],
   "source": [
    "N"
   ]
  },
  {
   "cell_type": "code",
   "execution_count": 28,
   "metadata": {},
   "outputs": [
    {
     "data": {
      "text/plain": [
       "Matrix([\n",
       "[              1.0, 0.0, 0.0, 0.0],\n",
       "[               -1,   1,   0,   0],\n",
       "[0.386294361119891,   0,   1,   0],\n",
       "[               -1,   0,   0,   1]])"
      ]
     },
     "execution_count": 28,
     "metadata": {},
     "output_type": "execute_result"
    }
   ],
   "source": [
    "Nt=sympy.functions.transpose(N)\n",
    "Nt\n"
   ]
  },
  {
   "cell_type": "code",
   "execution_count": 29,
   "metadata": {},
   "outputs": [
    {
     "data": {
      "text/plain": [
       "Matrix([\n",
       "[              3.0,           -2.7726,  0.727083083359672,               -2.0],\n",
       "[          -2.7726,            5.5452,  -1.07103974564101,             2.7726],\n",
       "[0.727083083359672, -1.07103974564101,  0.341466190035936, -0.727083083359672],\n",
       "[             -2.0,            2.7726, -0.727083083359672,                4.0]])"
      ]
     },
     "execution_count": 29,
     "metadata": {},
     "output_type": "execute_result"
    }
   ],
   "source": [
    "P=Nt*PK*N\n",
    "P"
   ]
  },
  {
   "cell_type": "code",
   "execution_count": 30,
   "metadata": {},
   "outputs": [
    {
     "data": {
      "text/plain": [
       "<4x4 matrix, tc='d'>"
      ]
     },
     "execution_count": 30,
     "metadata": {},
     "output_type": "execute_result"
    }
   ],
   "source": [
    "P=[[float(P[0]), float(P[1]), float(P[2]),float(P[3])], \n",
    "   [float(P[4]), float(P[5]), float(P[6]),float(P[7])],\n",
    "   [float(P[8]), float(P[9]), float(P[10]),float(P[11])],\n",
    "   [float(P[12]), float(P[13]), float(P[14]),float(P[15])]\n",
    "  ]\n",
    "P=matrix(P)\n",
    "P"
   ]
  },
  {
   "cell_type": "code",
   "execution_count": 31,
   "metadata": {},
   "outputs": [],
   "source": [
    "import numpy as np\n",
    "\n",
    "def is_pos_def(x):\n",
    "    return np.all(np.linalg.eigvals(x) > 0)\n",
    "\n"
   ]
  },
  {
   "cell_type": "code",
   "execution_count": 32,
   "metadata": {},
   "outputs": [
    {
     "data": {
      "text/plain": [
       "True"
      ]
     },
     "execution_count": 32,
     "metadata": {},
     "output_type": "execute_result"
    }
   ],
   "source": [
    "is_pos_def(P)"
   ]
  },
  {
   "cell_type": "code",
   "execution_count": 33,
   "metadata": {},
   "outputs": [],
   "source": [
    "q=matrix([0.0,0.0,0.0,0.0])\n",
    "A=matrix([[1.0],[0.0],[0.0],[0.0]])\n",
    "b=matrix([1.0])"
   ]
  },
  {
   "cell_type": "code",
   "execution_count": 34,
   "metadata": {},
   "outputs": [
    {
     "data": {
      "text/plain": [
       "{'status': 'optimal',\n",
       " 'x': <4x1 matrix, tc='d'>,\n",
       " 'y': <1x1 matrix, tc='d'>,\n",
       " 'z': <0x1 matrix, tc='d'>,\n",
       " 's': <0x1 matrix, tc='d'>,\n",
       " 'gap': 0.0,\n",
       " 'relgap': 0.0,\n",
       " 'primal objective': 0.6456869641143649,\n",
       " 'dual objective': 0.6456869641143649,\n",
       " 'primal slack': 0.0,\n",
       " 'dual slack': 0.0,\n",
       " 'primal infeasibility': 0.0,\n",
       " 'dual infeasibility': 6.753223014464259e-16,\n",
       " 'iterations': 0}"
      ]
     },
     "execution_count": 34,
     "metadata": {},
     "output_type": "execute_result"
    }
   ],
   "source": [
    "sol= solvers.qp(P=P,q=q,A=A,b=b)\n",
    "sol"
   ]
  },
  {
   "cell_type": "code",
   "execution_count": 35,
   "metadata": {},
   "outputs": [
    {
     "data": {
      "text/plain": [
       "[1.0, 0.1923126177076252, -1.2158805505437142, 0.14568696411436488]"
      ]
     },
     "execution_count": 35,
     "metadata": {},
     "output_type": "execute_result"
    }
   ],
   "source": [
    "Results=[]\n",
    "for i in range(0,len(sol['x'])):\n",
    "    Results.append(float(sol['x'][i]))\n",
    "Results"
   ]
  },
  {
   "cell_type": "code",
   "execution_count": 36,
   "metadata": {},
   "outputs": [
    {
     "data": {
      "text/plain": [
       "[1.0, 0.1923126177076252, -1.2158805505437142, 0.14568696411436488]"
      ]
     },
     "execution_count": 36,
     "metadata": {},
     "output_type": "execute_result"
    }
   ],
   "source": [
    "Results=[]\n",
    "for i in range(0,len(sol['x'])):\n",
    "    Results.append(float(sol['x'][i]))\n",
    "Results"
   ]
  },
  {
   "cell_type": "code",
   "execution_count": 37,
   "metadata": {},
   "outputs": [],
   "source": [
    "coeff=Results[0]*N.col(0)+ Results[1]*N.col(1)+ Results[2]*N.col(2)+Results[3]*N.col(3)"
   ]
  },
  {
   "cell_type": "code",
   "execution_count": 38,
   "metadata": {},
   "outputs": [
    {
     "data": {
      "text/plain": [
       "Matrix([\n",
       "[0.192312617707625],\n",
       "[0.192312617707625],\n",
       "[-1.21588055054371],\n",
       "[0.145686964114365]])"
      ]
     },
     "execution_count": 38,
     "metadata": {},
     "output_type": "execute_result"
    }
   ],
   "source": [
    "coeff"
   ]
  },
  {
   "cell_type": "code",
   "execution_count": 21,
   "metadata": {},
   "outputs": [
    {
     "data": {
      "text/plain": [
       "Matrix([\n",
       "[ 0.155566466383419],\n",
       "[ 0.155566466383419],\n",
       "[-0.983556061204358],\n",
       "[ 0.308924906944629]])"
      ]
     },
     "execution_count": 21,
     "metadata": {},
     "output_type": "execute_result"
    }
   ],
   "source": [
    "coeff"
   ]
  },
  {
   "cell_type": "code",
   "execution_count": 19,
   "metadata": {},
   "outputs": [
    {
     "data": {
      "text/plain": [
       "<3x3 matrix, tc='d'>"
      ]
     },
     "execution_count": 19,
     "metadata": {},
     "output_type": "execute_result"
    }
   ],
   "source": [
    "PK= [[3.0,0.2274,-0.4318],\n",
    "     [0.2274,3.0,-0.4318],\n",
    "     [-0.4318,-0.4318,0.2274]]\n",
    "PK=matrix(PK)\n",
    "PK"
   ]
  },
  {
   "cell_type": "code",
   "execution_count": 20,
   "metadata": {},
   "outputs": [],
   "source": [
    "q=matrix([0.0,0.0,0.0])\n",
    "A=matrix([[1.0],[1.0],[(1-2*math.log(2))]])\n",
    "b=matrix([1.0])"
   ]
  },
  {
   "cell_type": "code",
   "execution_count": 21,
   "metadata": {},
   "outputs": [
    {
     "data": {
      "text/plain": [
       "{'status': 'optimal',\n",
       " 'x': <3x1 matrix, tc='d'>,\n",
       " 'y': <1x1 matrix, tc='d'>,\n",
       " 'z': <0x1 matrix, tc='d'>,\n",
       " 's': <0x1 matrix, tc='d'>,\n",
       " 'gap': 0.0,\n",
       " 'relgap': 0.0,\n",
       " 'primal objective': 0.6705311261736007,\n",
       " 'dual objective': 0.6705311261736007,\n",
       " 'primal slack': 0.0,\n",
       " 'dual slack': 0.0,\n",
       " 'primal infeasibility': 1.8551712239970406e-17,\n",
       " 'dual infeasibility': 3.1401849173675503e-16,\n",
       " 'iterations': 0}"
      ]
     },
     "execution_count": 21,
     "metadata": {},
     "output_type": "execute_result"
    }
   ],
   "source": [
    "sol= solvers.qp(P=PK,q=q,A=A,b=b)\n",
    "sol"
   ]
  },
  {
   "cell_type": "code",
   "execution_count": 22,
   "metadata": {},
   "outputs": [
    {
     "data": {
      "text/plain": [
       "[0.22510790498269964, 0.22510790498269964, -1.4232260301205106]"
      ]
     },
     "execution_count": 22,
     "metadata": {},
     "output_type": "execute_result"
    }
   ],
   "source": [
    "Results=[]\n",
    "for i in range(0,len(sol['x'])):\n",
    "    Results.append(float(sol['x'][i]))\n",
    "\n",
    "Results"
   ]
  },
  {
   "cell_type": "markdown",
   "metadata": {},
   "source": [
    "## using MJ on PK\n",
    "\n"
   ]
  },
  {
   "cell_type": "code",
   "execution_count": 9,
   "metadata": {},
   "outputs": [],
   "source": [
    "PK= [[5.8125,0.22741,-0.7159],\n",
    "     [0.2274,0.1875,-0.1478],\n",
    "     [-0.7159,-0.1478,0.22741]]\n",
    "PK=Matrix(PK)"
   ]
  },
  {
   "cell_type": "code",
   "execution_count": 3,
   "metadata": {},
   "outputs": [],
   "source": [
    "kpk=[[1.75,0.25,(1-2*math.log(2))]]\n",
    "kpk=Matrix(kpk)\n",
    "N=Matrix()\n",
    "for i in range (0,len(kpk.nullspace())):\n",
    "                N=N.col_insert(i,kpk.nullspace()[i])"
   ]
  },
  {
   "cell_type": "code",
   "execution_count": 4,
   "metadata": {},
   "outputs": [
    {
     "data": {
      "text/latex": [
       "$\\displaystyle \\left[\\begin{matrix}-0.142857142857143 & 0.220739634925652\\\\1 & 0\\\\0 & 1\\end{matrix}\\right]$"
      ],
      "text/plain": [
       "Matrix([\n",
       "[-0.142857142857143, 0.220739634925652],\n",
       "[                 1,                 0],\n",
       "[                 0,                 1]])"
      ]
     },
     "execution_count": 4,
     "metadata": {},
     "output_type": "execute_result"
    }
   ],
   "source": [
    "N"
   ]
  },
  {
   "cell_type": "code",
   "execution_count": 5,
   "metadata": {},
   "outputs": [
    {
     "data": {
      "text/latex": [
       "$\\displaystyle \\left[\\begin{matrix}0.5 & -0.142857142857143 & 0.220739634925652\\\\0.5 & 1 & 0\\\\0 & 0 & 1\\end{matrix}\\right]$"
      ],
      "text/plain": [
       "Matrix([\n",
       "[0.5, -0.142857142857143, 0.220739634925652],\n",
       "[0.5,                  1,                 0],\n",
       "[  0,                  0,                 1]])"
      ]
     },
     "execution_count": 5,
     "metadata": {},
     "output_type": "execute_result"
    }
   ],
   "source": [
    "N=N.col_insert(0,Matrix([0.5,0.5,0]))\n",
    "N"
   ]
  },
  {
   "cell_type": "code",
   "execution_count": 6,
   "metadata": {},
   "outputs": [
    {
     "data": {
      "text/latex": [
       "$\\displaystyle \\left[\\begin{matrix}0.5 & 0.5 & 0\\\\-0.142857142857143 & 1 & 0\\\\0.220739634925652 & 0 & 1\\end{matrix}\\right]$"
      ],
      "text/plain": [
       "Matrix([\n",
       "[               0.5, 0.5, 0],\n",
       "[-0.142857142857143,   1, 0],\n",
       "[ 0.220739634925652,   0, 1]])"
      ]
     },
     "execution_count": 6,
     "metadata": {},
     "output_type": "execute_result"
    }
   ],
   "source": [
    "Nt=sympy.functions.transpose(N)\n",
    "Nt"
   ]
  },
  {
   "cell_type": "code",
   "execution_count": 13,
   "metadata": {},
   "outputs": [
    {
     "data": {
      "text/latex": [
       "$\\displaystyle \\left[\\begin{matrix}1.6137025 & -0.223966428571429 & 0.234772660493722\\\\-0.223972142857143 & 0.241149591836735 & -0.178625111018671\\\\0.234773764191897 & -0.178622903622322 & 0.194574786821029\\end{matrix}\\right]$"
      ],
      "text/plain": [
       "Matrix([\n",
       "[         1.6137025, -0.223966428571429,  0.234772660493722],\n",
       "[-0.223972142857143,  0.241149591836735, -0.178625111018671],\n",
       "[ 0.234773764191897, -0.178622903622322,  0.194574786821029]])"
      ]
     },
     "execution_count": 13,
     "metadata": {},
     "output_type": "execute_result"
    }
   ],
   "source": [
    "P=Nt*PK*N\n",
    "P"
   ]
  },
  {
   "cell_type": "code",
   "execution_count": 16,
   "metadata": {},
   "outputs": [
    {
     "data": {
      "text/plain": [
       "<3x3 matrix, tc='d'>"
      ]
     },
     "execution_count": 16,
     "metadata": {},
     "output_type": "execute_result"
    }
   ],
   "source": [
    "P=[[float(P[0]), float(P[1]), float(P[2])], \n",
    "   [float(P[3]), float(P[4]), float(P[5])],\n",
    "   [float(P[6]), float(P[7]), float(P[8])]\n",
    "  ]\n",
    "P=matrix(P)\n",
    "P"
   ]
  },
  {
   "cell_type": "code",
   "execution_count": 17,
   "metadata": {},
   "outputs": [],
   "source": [
    "import numpy as np\n",
    "\n",
    "def is_pos_def(x):\n",
    "    return np.all(np.linalg.eigvals(x) > 0)\n"
   ]
  },
  {
   "cell_type": "code",
   "execution_count": 18,
   "metadata": {},
   "outputs": [
    {
     "data": {
      "text/plain": [
       "True"
      ]
     },
     "execution_count": 18,
     "metadata": {},
     "output_type": "execute_result"
    }
   ],
   "source": [
    "is_pos_def(P)"
   ]
  },
  {
   "cell_type": "code",
   "execution_count": 19,
   "metadata": {},
   "outputs": [],
   "source": [
    "q=matrix([0.0,0.0,0.0])\n",
    "A=matrix([[1.0],[0.0],[0.0]])\n",
    "b=matrix([1.0])"
   ]
  },
  {
   "cell_type": "code",
   "execution_count": 21,
   "metadata": {},
   "outputs": [
    {
     "data": {
      "text/plain": [
       "{'status': 'optimal',\n",
       " 'x': <3x1 matrix, tc='d'>,\n",
       " 'y': <1x1 matrix, tc='d'>,\n",
       " 'z': <0x1 matrix, tc='d'>,\n",
       " 's': <0x1 matrix, tc='d'>,\n",
       " 'gap': 0.0,\n",
       " 'relgap': 0.0,\n",
       " 'primal objective': 0.6647522775151471,\n",
       " 'dual objective': 0.6647522775151471,\n",
       " 'primal slack': 0.0,\n",
       " 'dual slack': 0.0,\n",
       " 'primal infeasibility': 2.220446049250313e-16,\n",
       " 'dual infeasibility': 2.2887833992611187e-16,\n",
       " 'iterations': 0}"
      ]
     },
     "execution_count": 21,
     "metadata": {},
     "output_type": "execute_result"
    }
   ],
   "source": [
    "sol= solvers.qp(P=P,q=q,A=A,b=b)\n",
    "sol"
   ]
  },
  {
   "cell_type": "code",
   "execution_count": 22,
   "metadata": {},
   "outputs": [
    {
     "data": {
      "text/plain": [
       "[1.0000000000000002, 0.10935466805942905, -1.1062027834530028]"
      ]
     },
     "execution_count": 22,
     "metadata": {},
     "output_type": "execute_result"
    }
   ],
   "source": [
    "Results=[]\n",
    "for i in range(0,len(sol['x'])):\n",
    "    Results.append(float(sol['x'][i]))\n",
    "Results"
   ]
  },
  {
   "cell_type": "code",
   "execution_count": 23,
   "metadata": {},
   "outputs": [],
   "source": [
    "coeff=Results[0]*N.col(0)+ Results[1]*N.col(1)+ Results[2]*N.col(2)"
   ]
  },
  {
   "cell_type": "code",
   "execution_count": 24,
   "metadata": {},
   "outputs": [
    {
     "data": {
      "text/latex": [
       "$\\displaystyle \\left[\\begin{matrix}0.240195105989783\\\\0.609354668059429\\\\-1.106202783453\\end{matrix}\\right]$"
      ],
      "text/plain": [
       "Matrix([\n",
       "[0.240195105989783],\n",
       "[0.609354668059429],\n",
       "[  -1.106202783453]])"
      ]
     },
     "execution_count": 24,
     "metadata": {},
     "output_type": "execute_result"
    }
   ],
   "source": [
    "coeff"
   ]
  },
  {
   "cell_type": "code",
   "execution_count": 25,
   "metadata": {},
   "outputs": [],
   "source": [
    "PK= [[5.8125,0.22741,-0.7159],\n",
    "     [0.2274,0.1875,-0.1478],\n",
    "     [-0.7159,-0.1478,0.22741]]\n",
    "PK=matrix(PK)"
   ]
  },
  {
   "cell_type": "code",
   "execution_count": 28,
   "metadata": {},
   "outputs": [],
   "source": [
    "q=matrix([0.0,0.0,0.0])\n",
    "A=matrix([[1.75],[0.25],[(1-2*math.log(2))]])\n",
    "b=matrix([1.0])"
   ]
  },
  {
   "cell_type": "code",
   "execution_count": 29,
   "metadata": {},
   "outputs": [
    {
     "data": {
      "text/plain": [
       "{'status': 'optimal',\n",
       " 'x': <3x1 matrix, tc='d'>,\n",
       " 'y': <1x1 matrix, tc='d'>,\n",
       " 'z': <0x1 matrix, tc='d'>,\n",
       " 's': <0x1 matrix, tc='d'>,\n",
       " 'gap': 0.0,\n",
       " 'relgap': 0.0,\n",
       " 'primal objective': 0.664751952891028,\n",
       " 'dual objective': 0.664751952891028,\n",
       " 'primal slack': 0.0,\n",
       " 'dual slack': 0.0,\n",
       " 'primal infeasibility': 2.847541425707419e-16,\n",
       " 'dual infeasibility': 4.47545209131181e-16,\n",
       " 'iterations': 0}"
      ]
     },
     "execution_count": 29,
     "metadata": {},
     "output_type": "execute_result"
    }
   ],
   "source": [
    "sol= solvers.qp(P=PK,q=q,A=A,b=b)\n",
    "sol"
   ]
  },
  {
   "cell_type": "code",
   "execution_count": 30,
   "metadata": {},
   "outputs": [
    {
     "data": {
      "text/plain": [
       "[0.24019518954777483, 0.6093815896539351, -1.1061849819373597]"
      ]
     },
     "execution_count": 30,
     "metadata": {},
     "output_type": "execute_result"
    }
   ],
   "source": [
    "Results=[]\n",
    "for i in range(0,len(sol['x'])):\n",
    "    Results.append(float(sol['x'][i]))\n",
    "\n",
    "Results"
   ]
  },
  {
   "cell_type": "code",
   "execution_count": null,
   "metadata": {},
   "outputs": [],
   "source": []
  }
 ],
 "metadata": {
  "kernelspec": {
   "display_name": "Python 3",
   "language": "python",
   "name": "python3"
  },
  "language_info": {
   "codemirror_mode": {
    "name": "ipython",
    "version": 3
   },
   "file_extension": ".py",
   "mimetype": "text/x-python",
   "name": "python",
   "nbconvert_exporter": "python",
   "pygments_lexer": "ipython3",
   "version": "3.6.5"
  }
 },
 "nbformat": 4,
 "nbformat_minor": 2
}
