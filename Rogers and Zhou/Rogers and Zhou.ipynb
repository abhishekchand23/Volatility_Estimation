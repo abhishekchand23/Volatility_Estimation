{
 "cells": [
  {
   "cell_type": "code",
   "execution_count": 55,
   "metadata": {},
   "outputs": [],
   "source": [
    "import cvxopt\n",
    "from cvxopt import solvers\n",
    "from cvxopt import matrix\n",
    "import numpy as np\n",
    "from scipy.linalg import null_space\n",
    "import math\n",
    "from sympy import Matrix\n",
    "import sympy\n",
    "import pandas as pd\n",
    "import matplotlib.pyplot as plt"
   ]
  },
  {
   "cell_type": "code",
   "execution_count": 56,
   "metadata": {},
   "outputs": [],
   "source": [
    "b=2*math.log(2)-1\n",
    "RZ1= [[1,    -b,   -b,     b**2, 1/2, -b/2,  1/2, -b/2, 1/4],\n",
    "     [-b,    1,    b**2, -b,    1/2, -b/2, -b/2,  1/2, 1/4],\n",
    "     [-b,    b**2, 1,    -b,   -b/2,  1/2,  1/2, -b/2, 1/4],\n",
    "     [b**2, -b,   -b,     1,   -b/2,  1/2, -b/2,  1/2, 1/4],\n",
    "     [1/2,   1/2, -b/2,  -b/2,  1,   -b,    1/4,  1/4, 1/2],\n",
    "     [-b/2, -b/2,  1/2,   1/2, -b,    1,    1/4,  1/4, 1/2],\n",
    "     [1/2,  -b/2,  1/2,  -b/2,  1/4,  1/4,  1,   -b,   1/2],\n",
    "     [-b/2,  1/2, -b/2,   1/2,  1/4,  1/4, -b,    1,   1/2],\n",
    "     [1/4,   1/4,  1/4,   1/4,  1/2,  1/2,  1/2,  1/2, 1  ]]\n",
    "RZ=matrix(RZ1)"
   ]
  },
  {
   "cell_type": "code",
   "execution_count": 57,
   "metadata": {},
   "outputs": [
    {
     "data": {
      "text/plain": [
       "<9x9 matrix, tc='d'>"
      ]
     },
     "execution_count": 57,
     "metadata": {},
     "output_type": "execute_result"
    }
   ],
   "source": [
    "RZ"
   ]
  },
  {
   "cell_type": "code",
   "execution_count": 58,
   "metadata": {},
   "outputs": [],
   "source": [
    "import numpy as np\n",
    "\n",
    "def is_pos_def(x):\n",
    "    return np.all(np.linalg.eigvals(x) > 0)"
   ]
  },
  {
   "cell_type": "code",
   "execution_count": 59,
   "metadata": {},
   "outputs": [
    {
     "data": {
      "text/plain": [
       "True"
      ]
     },
     "execution_count": 59,
     "metadata": {},
     "output_type": "execute_result"
    }
   ],
   "source": [
    "is_pos_def(RZ)"
   ]
  },
  {
   "cell_type": "markdown",
   "metadata": {},
   "source": [
    "### Using the constraint used by RZ"
   ]
  },
  {
   "cell_type": "code",
   "execution_count": 47,
   "metadata": {},
   "outputs": [],
   "source": [
    "q=matrix([0.0,0.0,0.0,0.0,0.0,0.0,0.0,0.0,0.0])\n",
    "A=matrix([[1.0,1.0],[-b,-1.0],[-b,-1.0],[1.0,1.0],[1/2,0.0],[1/2,0.0],[1/2,0.0],[1/2,0.0],[1.0,0.0]])\n",
    "B=matrix([1.0,0.0])"
   ]
  },
  {
   "cell_type": "code",
   "execution_count": 48,
   "metadata": {},
   "outputs": [
    {
     "data": {
      "text/plain": [
       "<2x9 matrix, tc='d'>"
      ]
     },
     "execution_count": 48,
     "metadata": {},
     "output_type": "execute_result"
    }
   ],
   "source": [
    "A"
   ]
  },
  {
   "cell_type": "code",
   "execution_count": 49,
   "metadata": {},
   "outputs": [
    {
     "data": {
      "text/plain": [
       "<2x1 matrix, tc='d'>"
      ]
     },
     "execution_count": 49,
     "metadata": {},
     "output_type": "execute_result"
    }
   ],
   "source": [
    "B"
   ]
  },
  {
   "cell_type": "code",
   "execution_count": 50,
   "metadata": {},
   "outputs": [
    {
     "data": {
      "text/plain": [
       "{'status': 'optimal',\n",
       " 'x': <9x1 matrix, tc='d'>,\n",
       " 'y': <2x1 matrix, tc='d'>,\n",
       " 'z': <0x1 matrix, tc='d'>,\n",
       " 's': <0x1 matrix, tc='d'>,\n",
       " 'gap': 0.0,\n",
       " 'relgap': 0.0,\n",
       " 'primal objective': 0.2500000000000002,\n",
       " 'dual objective': 0.2500000000000002,\n",
       " 'primal slack': 0.0,\n",
       " 'dual slack': 0.0,\n",
       " 'primal infeasibility': 1.6011864169946884e-15,\n",
       " 'dual infeasibility': 1.2953262784141144e-15,\n",
       " 'iterations': 0}"
      ]
     },
     "execution_count": 50,
     "metadata": {},
     "output_type": "execute_result"
    }
   ],
   "source": [
    "sol= solvers.qp(P=RZ,q=q,A=A,b=B)\n",
    "sol"
   ]
  },
  {
   "cell_type": "code",
   "execution_count": 51,
   "metadata": {},
   "outputs": [
    {
     "data": {
      "text/plain": [
       "[2.198659648389105,\n",
       " 2.1986596483891065,\n",
       " 2.198659648389107,\n",
       " 2.1986596483891074,\n",
       " -2.19865964838911,\n",
       " -2.1986596483891114,\n",
       " -2.19865964838911,\n",
       " -2.1986596483891114,\n",
       " 2.698659648389114]"
      ]
     },
     "execution_count": 51,
     "metadata": {},
     "output_type": "execute_result"
    }
   ],
   "source": [
    "Results=[]\n",
    "for i in range(0,len(sol['x'])):\n",
    "    Results.append(float(sol['x'][i]))\n",
    "\n",
    "Results"
   ]
  },
  {
   "cell_type": "code",
   "execution_count": 52,
   "metadata": {},
   "outputs": [
    {
     "data": {
      "text/plain": [
       "2.1986596483891057"
      ]
     },
     "execution_count": 52,
     "metadata": {},
     "output_type": "execute_result"
    }
   ],
   "source": [
    "1/(2*(1-2*b))"
   ]
  },
  {
   "cell_type": "code",
   "execution_count": 53,
   "metadata": {},
   "outputs": [],
   "source": [
    "A1=matrix([[1.0,1.0,b],[-b,-1.0,-1.0],[-b,-1.0,-1.0],[1.0,1.0,b],[1/2,0.0,-0.5],[1/2,0.0,-0.5],[1/2,0.0,-0.5],[1/2,0.0,-0.5],[1.0,0.0,-1.0]])\n",
    "B1=matrix([1.0,0.0,-1.0])"
   ]
  },
  {
   "cell_type": "code",
   "execution_count": 54,
   "metadata": {},
   "outputs": [
    {
     "data": {
      "text/plain": [
       "{'status': 'optimal',\n",
       " 'x': <9x1 matrix, tc='d'>,\n",
       " 'y': <3x1 matrix, tc='d'>,\n",
       " 'z': <0x1 matrix, tc='d'>,\n",
       " 's': <0x1 matrix, tc='d'>,\n",
       " 'gap': 0.0,\n",
       " 'relgap': 0.0,\n",
       " 'primal objective': 0.25000000000000955,\n",
       " 'dual objective': 0.25000000000000955,\n",
       " 'primal slack': 0.0,\n",
       " 'dual slack': 0.0,\n",
       " 'primal infeasibility': 2.834875741886945e-14,\n",
       " 'dual infeasibility': 2.0520814115631265e-14,\n",
       " 'iterations': 0}"
      ]
     },
     "execution_count": 54,
     "metadata": {},
     "output_type": "execute_result"
    }
   ],
   "source": [
    "sol1= solvers.qp(P=RZ,q=q,A=A1,b=B1)\n",
    "sol1"
   ]
  },
  {
   "cell_type": "code",
   "execution_count": 55,
   "metadata": {},
   "outputs": [
    {
     "data": {
      "text/plain": [
       "[2.1986596483890923,\n",
       " 2.19865964838912,\n",
       " 2.1986596483891345,\n",
       " 2.19865964838914,\n",
       " -2.198659648389113,\n",
       " -2.1986596483891434,\n",
       " -2.1986596483891034,\n",
       " -2.1986596483891176,\n",
       " 2.6986596483891314]"
      ]
     },
     "execution_count": 55,
     "metadata": {},
     "output_type": "execute_result"
    }
   ],
   "source": [
    "Results1=[]\n",
    "for i in range(0,len(sol1['x'])):\n",
    "    Results1.append(float(sol1['x'][i]))\n",
    "\n",
    "Results1"
   ]
  },
  {
   "cell_type": "code",
   "execution_count": 56,
   "metadata": {},
   "outputs": [],
   "source": [
    "A2=matrix([[1.0],[-b],[-b],[1.0],[1/2],[1/2],[1/2],[1/2],[1.0]])\n",
    "B2=matrix([1.0])"
   ]
  },
  {
   "cell_type": "code",
   "execution_count": 58,
   "metadata": {},
   "outputs": [
    {
     "data": {
      "text/plain": [
       "{'status': 'optimal',\n",
       " 'x': <9x1 matrix, tc='d'>,\n",
       " 'y': <1x1 matrix, tc='d'>,\n",
       " 'z': <0x1 matrix, tc='d'>,\n",
       " 's': <0x1 matrix, tc='d'>,\n",
       " 'gap': 0.0,\n",
       " 'relgap': 0.0,\n",
       " 'primal objective': 0.16666666666666685,\n",
       " 'dual objective': 0.16666666666666685,\n",
       " 'primal slack': 0.0,\n",
       " 'dual slack': 0.0,\n",
       " 'primal infeasibility': 2.220446049250313e-16,\n",
       " 'dual infeasibility': 1.0355470984145593e-15,\n",
       " 'iterations': 0}"
      ]
     },
     "execution_count": 58,
     "metadata": {},
     "output_type": "execute_result"
    }
   ],
   "source": [
    "sol2= solvers.qp(P=RZ,q=q,A=A2,b=B2)\n",
    "sol2"
   ]
  },
  {
   "cell_type": "code",
   "execution_count": 60,
   "metadata": {},
   "outputs": [
    {
     "data": {
      "text/plain": [
       "[1.5859976856668183,\n",
       " 1.3455485121853257,\n",
       " 1.3455485121853252,\n",
       " 1.5859976856668203,\n",
       " -1.4657730989260747,\n",
       " -1.4657730989260755,\n",
       " -1.4657730989260747,\n",
       " -1.4657730989260755,\n",
       " 1.7991064322594108]"
      ]
     },
     "execution_count": 60,
     "metadata": {},
     "output_type": "execute_result"
    }
   ],
   "source": [
    "Results2=[]\n",
    "for i in range(0,len(sol2['x'])):\n",
    "    Results2.append(float(sol2['x'][i]))\n",
    "\n",
    "Results2"
   ]
  },
  {
   "cell_type": "code",
   "execution_count": 62,
   "metadata": {},
   "outputs": [],
   "source": [
    "A3=matrix([[1.0],[-1.0],[-1.0],[1.0],[0.0],[0.0],[0.0],[0.0],[0.0]])\n",
    "B3=matrix([0.0])"
   ]
  },
  {
   "cell_type": "code",
   "execution_count": 63,
   "metadata": {},
   "outputs": [
    {
     "data": {
      "text/plain": [
       "{'status': 'optimal',\n",
       " 'x': <9x1 matrix, tc='d'>,\n",
       " 'y': <1x1 matrix, tc='d'>,\n",
       " 'z': <0x1 matrix, tc='d'>,\n",
       " 's': <0x1 matrix, tc='d'>,\n",
       " 'gap': 0.0,\n",
       " 'relgap': 0.0,\n",
       " 'primal objective': 0.0,\n",
       " 'dual objective': 0.0,\n",
       " 'primal slack': 0.0,\n",
       " 'dual slack': 0.0,\n",
       " 'primal infeasibility': 0.0,\n",
       " 'dual infeasibility': 0.0,\n",
       " 'iterations': 0}"
      ]
     },
     "execution_count": 63,
     "metadata": {},
     "output_type": "execute_result"
    }
   ],
   "source": [
    "sol3= solvers.qp(P=RZ,q=q,A=A3,b=B3)\n",
    "sol3"
   ]
  },
  {
   "cell_type": "code",
   "execution_count": 65,
   "metadata": {},
   "outputs": [
    {
     "data": {
      "text/plain": [
       "[0.0, 0.0, 0.0, 0.0, 0.0, 0.0, 0.0, 0.0, 0.0]"
      ]
     },
     "execution_count": 65,
     "metadata": {},
     "output_type": "execute_result"
    }
   ],
   "source": [
    "Results3=[]\n",
    "for i in range(0,len(sol3['x'])):\n",
    "    Results3.append(float(sol3['x'][i]))\n",
    "\n",
    "Results3"
   ]
  },
  {
   "cell_type": "code",
   "execution_count": 66,
   "metadata": {},
   "outputs": [],
   "source": [
    "A4=matrix([[b],[-1.0],[-1.0],[b],[-0.5],[-0.5],[-0.5],[-0.5],[-1.0]])\n",
    "B4=matrix([-1.0])"
   ]
  },
  {
   "cell_type": "code",
   "execution_count": 67,
   "metadata": {},
   "outputs": [
    {
     "data": {
      "text/plain": [
       "{'status': 'optimal',\n",
       " 'x': <9x1 matrix, tc='d'>,\n",
       " 'y': <1x1 matrix, tc='d'>,\n",
       " 'z': <0x1 matrix, tc='d'>,\n",
       " 's': <0x1 matrix, tc='d'>,\n",
       " 'gap': 0.0,\n",
       " 'relgap': 0.0,\n",
       " 'primal objective': 0.1666666666666666,\n",
       " 'dual objective': 0.1666666666666666,\n",
       " 'primal slack': 0.0,\n",
       " 'dual slack': 0.0,\n",
       " 'primal infeasibility': 2.220446049250313e-16,\n",
       " 'dual infeasibility': 9.371360918460988e-16,\n",
       " 'iterations': 0}"
      ]
     },
     "execution_count": 67,
     "metadata": {},
     "output_type": "execute_result"
    }
   ],
   "source": [
    "sol4= solvers.qp(P=RZ,q=q,A=A4,b=B4)\n",
    "sol4"
   ]
  },
  {
   "cell_type": "code",
   "execution_count": 68,
   "metadata": {},
   "outputs": [
    {
     "data": {
      "text/plain": [
       "[1.3455485121853248,\n",
       " 1.5859976856668188,\n",
       " 1.5859976856668192,\n",
       " 1.3455485121853263,\n",
       " -1.4657730989260747,\n",
       " -1.4657730989260755,\n",
       " -1.4657730989260747,\n",
       " -1.4657730989260755,\n",
       " 1.7991064322594112]"
      ]
     },
     "execution_count": 68,
     "metadata": {},
     "output_type": "execute_result"
    }
   ],
   "source": [
    "Results4=[]\n",
    "for i in range(0,len(sol4['x'])):\n",
    "    Results4.append(float(sol4['x'][i]))\n",
    "\n",
    "Results4"
   ]
  },
  {
   "cell_type": "code",
   "execution_count": 69,
   "metadata": {},
   "outputs": [],
   "source": [
    "A5=matrix([[1.0,b],[-1.0,-1.0],[-1.0,-1.0],[1.0,b],[0.0,-0.5],[0.0,-0.5],[0.0,-0.5],[0.0,-0.5],[0.0,-1.0]])\n",
    "B5=matrix([0.0,-1.0])"
   ]
  },
  {
   "cell_type": "code",
   "execution_count": 70,
   "metadata": {},
   "outputs": [
    {
     "data": {
      "text/plain": [
       "{'status': 'optimal',\n",
       " 'x': <9x1 matrix, tc='d'>,\n",
       " 'y': <2x1 matrix, tc='d'>,\n",
       " 'z': <0x1 matrix, tc='d'>,\n",
       " 's': <0x1 matrix, tc='d'>,\n",
       " 'gap': 0.0,\n",
       " 'relgap': 0.0,\n",
       " 'primal objective': 0.24999999999999847,\n",
       " 'dual objective': 0.24999999999999847,\n",
       " 'primal slack': 0.0,\n",
       " 'dual slack': 0.0,\n",
       " 'primal infeasibility': 4.440892098500626e-16,\n",
       " 'dual infeasibility': 1.0590852655056278e-15,\n",
       " 'iterations': 0}"
      ]
     },
     "execution_count": 70,
     "metadata": {},
     "output_type": "execute_result"
    }
   ],
   "source": [
    "sol5= solvers.qp(P=RZ,q=q,A=A5,b=B5)\n",
    "sol5"
   ]
  },
  {
   "cell_type": "code",
   "execution_count": 71,
   "metadata": {},
   "outputs": [
    {
     "data": {
      "text/plain": [
       "[2.1986596483891065,\n",
       " 2.1986596483891074,\n",
       " 2.1986596483891074,\n",
       " 2.1986596483891088,\n",
       " -2.1986596483891105,\n",
       " -2.198659648389112,\n",
       " -2.19865964838911,\n",
       " -2.1986596483891114,\n",
       " 2.698659648389114]"
      ]
     },
     "execution_count": 71,
     "metadata": {},
     "output_type": "execute_result"
    }
   ],
   "source": [
    "Results5=[]\n",
    "for i in range(0,len(sol5['x'])):\n",
    "    Results5.append(float(sol5['x'][i]))\n",
    "\n",
    "Results5"
   ]
  },
  {
   "cell_type": "code",
   "execution_count": 72,
   "metadata": {},
   "outputs": [
    {
     "data": {
      "text/plain": [
       "{'status': 'optimal',\n",
       " 'x': <9x1 matrix, tc='d'>,\n",
       " 'y': <0x1 matrix, tc='d'>,\n",
       " 'z': <0x1 matrix, tc='d'>,\n",
       " 's': <0x1 matrix, tc='d'>,\n",
       " 'gap': 0.0,\n",
       " 'relgap': 0.0,\n",
       " 'primal objective': 0.0,\n",
       " 'dual objective': 0.0,\n",
       " 'primal slack': 0.0,\n",
       " 'dual slack': 0.0,\n",
       " 'primal infeasibility': 0.0,\n",
       " 'dual infeasibility': 0.0,\n",
       " 'iterations': 0}"
      ]
     },
     "execution_count": 72,
     "metadata": {},
     "output_type": "execute_result"
    }
   ],
   "source": [
    "sol6= solvers.qp(P=RZ,q=q)\n",
    "sol6"
   ]
  },
  {
   "cell_type": "code",
   "execution_count": 73,
   "metadata": {},
   "outputs": [
    {
     "data": {
      "text/plain": [
       "[0.0, 0.0, 0.0, 0.0, 0.0, 0.0, 0.0, 0.0, 0.0]"
      ]
     },
     "execution_count": 73,
     "metadata": {},
     "output_type": "execute_result"
    }
   ],
   "source": [
    "Results6=[]\n",
    "for i in range(0,len(sol6['x'])):\n",
    "    Results6.append(float(sol6['x'][i]))\n",
    "\n",
    "Results6"
   ]
  },
  {
   "cell_type": "code",
   "execution_count": 72,
   "metadata": {},
   "outputs": [],
   "source": [
    "def Brownian(N,days):\n",
    "    W=[]\n",
    "    b=np.random.normal(0.0,1/N,days*N)\n",
    "    W.append(10)\n",
    "    W.extend(b)\n",
    "    W=np.cumsum(W)\n",
    "    return W , b"
   ]
  },
  {
   "cell_type": "code",
   "execution_count": 80,
   "metadata": {},
   "outputs": [
    {
     "data": {
      "text/plain": [
       "[<matplotlib.lines.Line2D at 0x62818c438>]"
      ]
     },
     "execution_count": 80,
     "metadata": {},
     "output_type": "execute_result"
    },
    {
     "data": {
      "image/png": "[encoded data removed]",
      "text/plain": [
       "<Figure size 432x288 with 1 Axes>"
      ]
     },
     "metadata": {
      "needs_background": "light"
     },
     "output_type": "display_data"
    }
   ],
   "source": [
    "W=Brownian(10,1)[0]\n",
    "plt.plot(W)\n"
   ]
  },
  {
   "cell_type": "code",
   "execution_count": 81,
   "metadata": {},
   "outputs": [
    {
     "data": {
      "text/plain": [
       "10.0"
      ]
     },
     "execution_count": 81,
     "metadata": {},
     "output_type": "execute_result"
    }
   ],
   "source": [
    "W.max()\n"
   ]
  },
  {
   "cell_type": "code",
   "execution_count": 82,
   "metadata": {},
   "outputs": [
    {
     "data": {
      "text/plain": [
       "9.571130468252347"
      ]
     },
     "execution_count": 82,
     "metadata": {},
     "output_type": "execute_result"
    }
   ],
   "source": [
    "W.min()"
   ]
  },
  {
   "cell_type": "code",
   "execution_count": 97,
   "metadata": {},
   "outputs": [],
   "source": [
    "T = 1.0\n",
    "N = 200000\n",
    "dt = T/(N-1)\n",
    "dX = np.sqrt(dt) * np.random.randn(1,N)\n",
    "X = np.cumsum(dX)"
   ]
  },
  {
   "cell_type": "code",
   "execution_count": 98,
   "metadata": {},
   "outputs": [
    {
     "data": {
      "text/plain": [
       "[<matplotlib.lines.Line2D at 0x6293a4eb8>]"
      ]
     },
     "execution_count": 98,
     "metadata": {},
     "output_type": "execute_result"
    },
    {
     "data": {
      "image/png": "[encoded data removed]",
      "text/plain": [
       "<Figure size 432x288 with 1 Axes>"
      ]
     },
     "metadata": {
      "needs_background": "light"
     },
     "output_type": "display_data"
    }
   ],
   "source": [
    "plt.plot(X)"
   ]
  },
  {
   "cell_type": "code",
   "execution_count": null,
   "metadata": {},
   "outputs": [],
   "source": [
    "np.random.randn()"
   ]
  },
  {
   "cell_type": "code",
   "execution_count": 3,
   "metadata": {},
   "outputs": [],
   "source": [
    "# function for simulating weiner/brownian process \n",
    "def Brownian(seed, N,days):\n",
    "    \"\"\"\n",
    "    N is the number of time steps in a day\n",
    "    days is the total # of days\n",
    "    \"\"\"\n",
    "    np.random.seed(seed)\n",
    "    # seed also modeled so that the simulation has same random #numbers during multiiple run\n",
    "    b = np.random.normal(0.,1.,days*N)*np.sqrt(1/N)\n",
    "    # brownian increments , variance is considered to be 1/N CHECK? \n",
    "    W = np.cumsum(b)\n",
    "    W=np.insert(W,0,0.)\n",
    "    # brownian path\n",
    "    return W, b"
   ]
  },
  {
   "cell_type": "code",
   "execution_count": 5,
   "metadata": {},
   "outputs": [],
   "source": [
    " # geometric brownian motion function \n",
    "def GBM(So, mu, sigma, W, N,days):\n",
    "    \"\"\"\n",
    "    So :is the start price\n",
    "    mu :is mean of price\n",
    "    sigma: is the volatility\n",
    "    N :is the number of time steps in a day days: is the total # of days\n",
    "    \"\"\"\n",
    "    S = []\n",
    "    S.append(So)\n",
    "    t=t = np.linspace(0.,1.,N+1)\n",
    "    for i in range(1,int(days*N+1)):\n",
    "        drift = (mu - 0.5 * sigma**2) * 1/N\n",
    "        #CHECK if the formula of the process is correct \n",
    "        diffusion = sigma * W[i-1]\n",
    "        S_temp = So*np.exp(drift + diffusion) \n",
    "        S.append(S_temp)\n",
    "    return S"
   ]
  },
  {
   "cell_type": "code",
   "execution_count": 6,
   "metadata": {},
   "outputs": [],
   "source": [
    "def generate_gbm_prices(start_price,instance,N,days,mu,sigma):\n",
    "    \"\"\"\n",
    "    start_price: is the initial price same as So as above instance: are number of simulations you want increments: are increments in a day, same as N above days: # of total no of trading days\n",
    "    \"\"\"\n",
    "    ins=instance\n",
    "    prices=pd.DataFrame()\n",
    "    for i in range(1,ins+1):\n",
    "        seed=i\n",
    "        W=Brownian(seed,N,days)[0] #here what to put BM or increments \n",
    "        So=start_price\n",
    "        temp=GBM(So,mu,sigma,W,N,days) \n",
    "        prices=pd.concat([prices,pd.Series(temp)],axis=1)\n",
    "    prices.columns=np.arange(1,ins+1,1) \n",
    "    return prices "
   ]
  },
  {
   "cell_type": "code",
   "execution_count": 61,
   "metadata": {},
   "outputs": [],
   "source": [
    "soln=generate_gbm_prices(55.25,1,2**6,100,0,1)#sample size is taken to be small #for illustration"
   ]
  },
  {
   "cell_type": "code",
   "execution_count": null,
   "metadata": {},
   "outputs": [],
   "source": []
  },
  {
   "cell_type": "code",
   "execution_count": 62,
   "metadata": {},
   "outputs": [
    {
     "data": {
      "image/png": "[encoded data removed]",
      "text/plain": [
       "<Figure size 576x432 with 1 Axes>"
      ]
     },
     "metadata": {
      "needs_background": "light"
     },
     "output_type": "display_data"
    }
   ],
   "source": [
    "plt.figure(figsize=(8,6))\n",
    "plt.plot(soln)\n",
    "plt.show()"
   ]
  },
  {
   "cell_type": "code",
   "execution_count": 63,
   "metadata": {},
   "outputs": [],
   "source": [
    " #the below function labels the data properly \n",
    "def give_labels(N,days,data):\n",
    "    obs_nu = np.arange(0,N+1) \n",
    "    final_prices=pd.DataFrame() \n",
    "    for i in range(1,days+1):\n",
    "        temp_ = data.loc[N*(i-1):N*i] \n",
    "        day_label=[]\n",
    "        for j in range(N+1):\n",
    "            day_label.append('day'+str(i))\n",
    "        tuples=list(zip(day_label,obs_nu))\n",
    "        index=pd.MultiIndex.from_tuples(tuples,names=['DAY','#INCREMENT'])\n",
    "        temp_1=pd.DataFrame(temp_.values,index=index)\n",
    "        final_prices=pd.concat([final_prices,temp_1])\n",
    "    return final_prices"
   ]
  },
  {
   "cell_type": "code",
   "execution_count": 64,
   "metadata": {},
   "outputs": [
    {
     "data": {
      "text/html": [
       "<div>\n",
       "<style scoped>\n",
       "    .dataframe tbody tr th:only-of-type {\n",
       "        vertical-align: middle;\n",
       "    }\n",
       "\n",
       "    .dataframe tbody tr th {\n",
       "        vertical-align: top;\n",
       "    }\n",
       "\n",
       "    .dataframe thead th {\n",
       "        text-align: right;\n",
       "    }\n",
       "</style>\n",
       "<table border=\"1\" class=\"dataframe\">\n",
       "  <thead>\n",
       "    <tr style=\"text-align: right;\">\n",
       "      <th></th>\n",
       "      <th></th>\n",
       "      <th>0</th>\n",
       "    </tr>\n",
       "    <tr>\n",
       "      <th>DAY</th>\n",
       "      <th>#INCREMENT</th>\n",
       "      <th></th>\n",
       "    </tr>\n",
       "  </thead>\n",
       "  <tbody>\n",
       "    <tr>\n",
       "      <th rowspan=\"30\" valign=\"top\">day1</th>\n",
       "      <th>0</th>\n",
       "      <td>55.250000</td>\n",
       "    </tr>\n",
       "    <tr>\n",
       "      <th>1</th>\n",
       "      <td>54.820041</td>\n",
       "    </tr>\n",
       "    <tr>\n",
       "      <th>2</th>\n",
       "      <td>67.161422</td>\n",
       "    </tr>\n",
       "    <tr>\n",
       "      <th>3</th>\n",
       "      <td>62.217074</td>\n",
       "    </tr>\n",
       "    <tr>\n",
       "      <th>4</th>\n",
       "      <td>58.242073</td>\n",
       "    </tr>\n",
       "    <tr>\n",
       "      <th>5</th>\n",
       "      <td>50.931771</td>\n",
       "    </tr>\n",
       "    <tr>\n",
       "      <th>6</th>\n",
       "      <td>56.750409</td>\n",
       "    </tr>\n",
       "    <tr>\n",
       "      <th>7</th>\n",
       "      <td>42.562370</td>\n",
       "    </tr>\n",
       "    <tr>\n",
       "      <th>8</th>\n",
       "      <td>52.935384</td>\n",
       "    </tr>\n",
       "    <tr>\n",
       "      <th>9</th>\n",
       "      <td>48.130744</td>\n",
       "    </tr>\n",
       "    <tr>\n",
       "      <th>10</th>\n",
       "      <td>50.088980</td>\n",
       "    </tr>\n",
       "    <tr>\n",
       "      <th>11</th>\n",
       "      <td>48.551725</td>\n",
       "    </tr>\n",
       "    <tr>\n",
       "      <th>12</th>\n",
       "      <td>58.287824</td>\n",
       "    </tr>\n",
       "    <tr>\n",
       "      <th>13</th>\n",
       "      <td>45.054624</td>\n",
       "    </tr>\n",
       "    <tr>\n",
       "      <th>14</th>\n",
       "      <td>43.274930</td>\n",
       "    </tr>\n",
       "    <tr>\n",
       "      <th>15</th>\n",
       "      <td>41.246518</td>\n",
       "    </tr>\n",
       "    <tr>\n",
       "      <th>16</th>\n",
       "      <td>47.526520</td>\n",
       "    </tr>\n",
       "    <tr>\n",
       "      <th>17</th>\n",
       "      <td>41.421557</td>\n",
       "    </tr>\n",
       "    <tr>\n",
       "      <th>18</th>\n",
       "      <td>40.538329</td>\n",
       "    </tr>\n",
       "    <tr>\n",
       "      <th>19</th>\n",
       "      <td>36.325342</td>\n",
       "    </tr>\n",
       "    <tr>\n",
       "      <th>20</th>\n",
       "      <td>36.517527</td>\n",
       "    </tr>\n",
       "    <tr>\n",
       "      <th>21</th>\n",
       "      <td>39.277202</td>\n",
       "    </tr>\n",
       "    <tr>\n",
       "      <th>22</th>\n",
       "      <td>34.228781</td>\n",
       "    </tr>\n",
       "    <tr>\n",
       "      <th>23</th>\n",
       "      <td>39.494338</td>\n",
       "    </tr>\n",
       "    <tr>\n",
       "      <th>24</th>\n",
       "      <td>44.205807</td>\n",
       "    </tr>\n",
       "    <tr>\n",
       "      <th>25</th>\n",
       "      <td>47.071511</td>\n",
       "    </tr>\n",
       "    <tr>\n",
       "      <th>26</th>\n",
       "      <td>52.682058</td>\n",
       "    </tr>\n",
       "    <tr>\n",
       "      <th>27</th>\n",
       "      <td>48.366574</td>\n",
       "    </tr>\n",
       "    <tr>\n",
       "      <th>28</th>\n",
       "      <td>47.629279</td>\n",
       "    </tr>\n",
       "    <tr>\n",
       "      <th>29</th>\n",
       "      <td>42.371523</td>\n",
       "    </tr>\n",
       "    <tr>\n",
       "      <th>...</th>\n",
       "      <th>...</th>\n",
       "      <td>...</td>\n",
       "    </tr>\n",
       "    <tr>\n",
       "      <th rowspan=\"30\" valign=\"top\">day100</th>\n",
       "      <th>35</th>\n",
       "      <td>613195.006476</td>\n",
       "    </tr>\n",
       "    <tr>\n",
       "      <th>36</th>\n",
       "      <td>618906.172785</td>\n",
       "    </tr>\n",
       "    <tr>\n",
       "      <th>37</th>\n",
       "      <td>607156.315276</td>\n",
       "    </tr>\n",
       "    <tr>\n",
       "      <th>38</th>\n",
       "      <td>684020.773595</td>\n",
       "    </tr>\n",
       "    <tr>\n",
       "      <th>39</th>\n",
       "      <td>638970.223339</td>\n",
       "    </tr>\n",
       "    <tr>\n",
       "      <th>40</th>\n",
       "      <td>571512.568855</td>\n",
       "    </tr>\n",
       "    <tr>\n",
       "      <th>41</th>\n",
       "      <td>617756.465016</td>\n",
       "    </tr>\n",
       "    <tr>\n",
       "      <th>42</th>\n",
       "      <td>564098.433625</td>\n",
       "    </tr>\n",
       "    <tr>\n",
       "      <th>43</th>\n",
       "      <td>623856.288483</td>\n",
       "    </tr>\n",
       "    <tr>\n",
       "      <th>44</th>\n",
       "      <td>701708.980809</td>\n",
       "    </tr>\n",
       "    <tr>\n",
       "      <th>45</th>\n",
       "      <td>681289.286072</td>\n",
       "    </tr>\n",
       "    <tr>\n",
       "      <th>46</th>\n",
       "      <td>629931.424145</td>\n",
       "    </tr>\n",
       "    <tr>\n",
       "      <th>47</th>\n",
       "      <td>648725.461977</td>\n",
       "    </tr>\n",
       "    <tr>\n",
       "      <th>48</th>\n",
       "      <td>640427.383384</td>\n",
       "    </tr>\n",
       "    <tr>\n",
       "      <th>49</th>\n",
       "      <td>568326.559658</td>\n",
       "    </tr>\n",
       "    <tr>\n",
       "      <th>50</th>\n",
       "      <td>561151.778679</td>\n",
       "    </tr>\n",
       "    <tr>\n",
       "      <th>51</th>\n",
       "      <td>546290.003681</td>\n",
       "    </tr>\n",
       "    <tr>\n",
       "      <th>52</th>\n",
       "      <td>524698.250196</td>\n",
       "    </tr>\n",
       "    <tr>\n",
       "      <th>53</th>\n",
       "      <td>533107.980950</td>\n",
       "    </tr>\n",
       "    <tr>\n",
       "      <th>54</th>\n",
       "      <td>711821.686133</td>\n",
       "    </tr>\n",
       "    <tr>\n",
       "      <th>55</th>\n",
       "      <td>602344.847558</td>\n",
       "    </tr>\n",
       "    <tr>\n",
       "      <th>56</th>\n",
       "      <td>563001.470771</td>\n",
       "    </tr>\n",
       "    <tr>\n",
       "      <th>57</th>\n",
       "      <td>527713.518198</td>\n",
       "    </tr>\n",
       "    <tr>\n",
       "      <th>58</th>\n",
       "      <td>624997.085759</td>\n",
       "    </tr>\n",
       "    <tr>\n",
       "      <th>59</th>\n",
       "      <td>642999.719101</td>\n",
       "    </tr>\n",
       "    <tr>\n",
       "      <th>60</th>\n",
       "      <td>685127.263581</td>\n",
       "    </tr>\n",
       "    <tr>\n",
       "      <th>61</th>\n",
       "      <td>793800.795415</td>\n",
       "    </tr>\n",
       "    <tr>\n",
       "      <th>62</th>\n",
       "      <td>629728.266395</td>\n",
       "    </tr>\n",
       "    <tr>\n",
       "      <th>63</th>\n",
       "      <td>845056.560112</td>\n",
       "    </tr>\n",
       "    <tr>\n",
       "      <th>64</th>\n",
       "      <td>965777.386203</td>\n",
       "    </tr>\n",
       "  </tbody>\n",
       "</table>\n",
       "<p>6500 rows × 1 columns</p>\n",
       "</div>"
      ],
      "text/plain": [
       "                               0\n",
       "DAY    #INCREMENT               \n",
       "day1   0               55.250000\n",
       "       1               54.820041\n",
       "       2               67.161422\n",
       "       3               62.217074\n",
       "       4               58.242073\n",
       "       5               50.931771\n",
       "       6               56.750409\n",
       "       7               42.562370\n",
       "       8               52.935384\n",
       "       9               48.130744\n",
       "       10              50.088980\n",
       "       11              48.551725\n",
       "       12              58.287824\n",
       "       13              45.054624\n",
       "       14              43.274930\n",
       "       15              41.246518\n",
       "       16              47.526520\n",
       "       17              41.421557\n",
       "       18              40.538329\n",
       "       19              36.325342\n",
       "       20              36.517527\n",
       "       21              39.277202\n",
       "       22              34.228781\n",
       "       23              39.494338\n",
       "       24              44.205807\n",
       "       25              47.071511\n",
       "       26              52.682058\n",
       "       27              48.366574\n",
       "       28              47.629279\n",
       "       29              42.371523\n",
       "...                          ...\n",
       "day100 35          613195.006476\n",
       "       36          618906.172785\n",
       "       37          607156.315276\n",
       "       38          684020.773595\n",
       "       39          638970.223339\n",
       "       40          571512.568855\n",
       "       41          617756.465016\n",
       "       42          564098.433625\n",
       "       43          623856.288483\n",
       "       44          701708.980809\n",
       "       45          681289.286072\n",
       "       46          629931.424145\n",
       "       47          648725.461977\n",
       "       48          640427.383384\n",
       "       49          568326.559658\n",
       "       50          561151.778679\n",
       "       51          546290.003681\n",
       "       52          524698.250196\n",
       "       53          533107.980950\n",
       "       54          711821.686133\n",
       "       55          602344.847558\n",
       "       56          563001.470771\n",
       "       57          527713.518198\n",
       "       58          624997.085759\n",
       "       59          642999.719101\n",
       "       60          685127.263581\n",
       "       61          793800.795415\n",
       "       62          629728.266395\n",
       "       63          845056.560112\n",
       "       64          965777.386203\n",
       "\n",
       "[6500 rows x 1 columns]"
      ]
     },
     "execution_count": 64,
     "metadata": {},
     "output_type": "execute_result"
    }
   ],
   "source": [
    "ac_w_lab= give_labels(2**6,100,soln)\n",
    "ac_w_lab"
   ]
  },
  {
   "cell_type": "code",
   "execution_count": 65,
   "metadata": {},
   "outputs": [],
   "source": [
    "def ochl_data(instances,N,days,data): \n",
    "    data_fin=pd.DataFrame()\n",
    "    zz=data\n",
    "    for i in range(instances):\n",
    "        for j in range(1,days+1): \n",
    "            temp=pd.DataFrame({'OPEN':zz.loc['day'+str(j)][i][0],\n",
    "                                            \"CLOSE\":zz.loc['day'+str(j)][i][N],\n",
    "                                         'HIGH':max(zz.loc['day'+str(j)][i]),\n",
    "                                        'LOW': min(zz.loc['day'+str(j)][i])},\n",
    "                                 index=pd.MultiIndex.from_tuples([('Simulation'+str(i+1),\n",
    "                                     'day'+str(j))],names=['Simulation#','DAY']))\n",
    "            data_fin=pd.concat([data_fin,temp]) \n",
    "    return data_fin"
   ]
  },
  {
   "cell_type": "code",
   "execution_count": 66,
   "metadata": {},
   "outputs": [],
   "source": [
    "final=ochl_data(1,2**6,100,ac_w_lab)"
   ]
  },
  {
   "cell_type": "code",
   "execution_count": 67,
   "metadata": {},
   "outputs": [
    {
     "data": {
      "text/html": [
       "<div>\n",
       "<style scoped>\n",
       "    .dataframe tbody tr th:only-of-type {\n",
       "        vertical-align: middle;\n",
       "    }\n",
       "\n",
       "    .dataframe tbody tr th {\n",
       "        vertical-align: top;\n",
       "    }\n",
       "\n",
       "    .dataframe thead th {\n",
       "        text-align: right;\n",
       "    }\n",
       "</style>\n",
       "<table border=\"1\" class=\"dataframe\">\n",
       "  <thead>\n",
       "    <tr style=\"text-align: right;\">\n",
       "      <th></th>\n",
       "      <th></th>\n",
       "      <th>OPEN</th>\n",
       "      <th>CLOSE</th>\n",
       "      <th>HIGH</th>\n",
       "      <th>LOW</th>\n",
       "    </tr>\n",
       "    <tr>\n",
       "      <th>Simulation#</th>\n",
       "      <th>DAY</th>\n",
       "      <th></th>\n",
       "      <th></th>\n",
       "      <th></th>\n",
       "      <th></th>\n",
       "    </tr>\n",
       "  </thead>\n",
       "  <tbody>\n",
       "    <tr>\n",
       "      <th rowspan=\"61\" valign=\"top\">Simulation1</th>\n",
       "      <th>day1</th>\n",
       "      <td>5.525000e+01</td>\n",
       "      <td>6.621045e+01</td>\n",
       "      <td>6.716142e+01</td>\n",
       "      <td>2.519217e+01</td>\n",
       "    </tr>\n",
       "    <tr>\n",
       "      <th>day2</th>\n",
       "      <td>6.621045e+01</td>\n",
       "      <td>1.444346e+02</td>\n",
       "      <td>1.459330e+02</td>\n",
       "      <td>6.378874e+01</td>\n",
       "    </tr>\n",
       "    <tr>\n",
       "      <th>day3</th>\n",
       "      <td>1.444346e+02</td>\n",
       "      <td>4.072488e+02</td>\n",
       "      <td>4.072488e+02</td>\n",
       "      <td>1.123058e+02</td>\n",
       "    </tr>\n",
       "    <tr>\n",
       "      <th>day4</th>\n",
       "      <td>4.072488e+02</td>\n",
       "      <td>5.211598e+02</td>\n",
       "      <td>1.223913e+03</td>\n",
       "      <td>3.907524e+02</td>\n",
       "    </tr>\n",
       "    <tr>\n",
       "      <th>day5</th>\n",
       "      <td>5.211598e+02</td>\n",
       "      <td>1.765615e+03</td>\n",
       "      <td>1.945653e+03</td>\n",
       "      <td>4.573656e+02</td>\n",
       "    </tr>\n",
       "    <tr>\n",
       "      <th>day6</th>\n",
       "      <td>1.765615e+03</td>\n",
       "      <td>7.396708e+02</td>\n",
       "      <td>2.426944e+03</td>\n",
       "      <td>5.107953e+02</td>\n",
       "    </tr>\n",
       "    <tr>\n",
       "      <th>day7</th>\n",
       "      <td>7.396708e+02</td>\n",
       "      <td>1.245160e+03</td>\n",
       "      <td>1.657904e+03</td>\n",
       "      <td>4.316694e+02</td>\n",
       "    </tr>\n",
       "    <tr>\n",
       "      <th>day8</th>\n",
       "      <td>1.245160e+03</td>\n",
       "      <td>1.258658e+03</td>\n",
       "      <td>3.113805e+03</td>\n",
       "      <td>9.500990e+02</td>\n",
       "    </tr>\n",
       "    <tr>\n",
       "      <th>day9</th>\n",
       "      <td>1.258658e+03</td>\n",
       "      <td>3.632729e+03</td>\n",
       "      <td>3.884102e+03</td>\n",
       "      <td>1.021420e+03</td>\n",
       "    </tr>\n",
       "    <tr>\n",
       "      <th>day10</th>\n",
       "      <td>3.632729e+03</td>\n",
       "      <td>3.862313e+03</td>\n",
       "      <td>7.433374e+03</td>\n",
       "      <td>3.391640e+03</td>\n",
       "    </tr>\n",
       "    <tr>\n",
       "      <th>day11</th>\n",
       "      <td>3.862313e+03</td>\n",
       "      <td>3.795160e+03</td>\n",
       "      <td>5.663874e+03</td>\n",
       "      <td>2.267892e+03</td>\n",
       "    </tr>\n",
       "    <tr>\n",
       "      <th>day12</th>\n",
       "      <td>3.795160e+03</td>\n",
       "      <td>1.977636e+03</td>\n",
       "      <td>4.971940e+03</td>\n",
       "      <td>1.761734e+03</td>\n",
       "    </tr>\n",
       "    <tr>\n",
       "      <th>day13</th>\n",
       "      <td>1.977636e+03</td>\n",
       "      <td>1.653723e+03</td>\n",
       "      <td>2.110708e+03</td>\n",
       "      <td>8.868531e+02</td>\n",
       "    </tr>\n",
       "    <tr>\n",
       "      <th>day14</th>\n",
       "      <td>1.653723e+03</td>\n",
       "      <td>5.820320e+03</td>\n",
       "      <td>1.076484e+04</td>\n",
       "      <td>1.653723e+03</td>\n",
       "    </tr>\n",
       "    <tr>\n",
       "      <th>day15</th>\n",
       "      <td>5.820320e+03</td>\n",
       "      <td>1.701281e+04</td>\n",
       "      <td>1.701281e+04</td>\n",
       "      <td>3.858953e+03</td>\n",
       "    </tr>\n",
       "    <tr>\n",
       "      <th>day16</th>\n",
       "      <td>1.701281e+04</td>\n",
       "      <td>2.648820e+03</td>\n",
       "      <td>2.119233e+04</td>\n",
       "      <td>2.648820e+03</td>\n",
       "    </tr>\n",
       "    <tr>\n",
       "      <th>day17</th>\n",
       "      <td>2.648820e+03</td>\n",
       "      <td>8.388081e+03</td>\n",
       "      <td>9.043333e+03</td>\n",
       "      <td>2.491133e+03</td>\n",
       "    </tr>\n",
       "    <tr>\n",
       "      <th>day18</th>\n",
       "      <td>8.388081e+03</td>\n",
       "      <td>5.031746e+03</td>\n",
       "      <td>1.376286e+04</td>\n",
       "      <td>5.031746e+03</td>\n",
       "    </tr>\n",
       "    <tr>\n",
       "      <th>day19</th>\n",
       "      <td>5.031746e+03</td>\n",
       "      <td>3.899722e+03</td>\n",
       "      <td>7.372310e+03</td>\n",
       "      <td>2.277506e+03</td>\n",
       "    </tr>\n",
       "    <tr>\n",
       "      <th>day20</th>\n",
       "      <td>3.899722e+03</td>\n",
       "      <td>2.382656e+04</td>\n",
       "      <td>2.490357e+04</td>\n",
       "      <td>3.463477e+03</td>\n",
       "    </tr>\n",
       "    <tr>\n",
       "      <th>day21</th>\n",
       "      <td>2.382656e+04</td>\n",
       "      <td>6.845816e+04</td>\n",
       "      <td>7.156681e+04</td>\n",
       "      <td>2.148319e+04</td>\n",
       "    </tr>\n",
       "    <tr>\n",
       "      <th>day22</th>\n",
       "      <td>6.845816e+04</td>\n",
       "      <td>1.109397e+05</td>\n",
       "      <td>1.169924e+05</td>\n",
       "      <td>4.944101e+04</td>\n",
       "    </tr>\n",
       "    <tr>\n",
       "      <th>day23</th>\n",
       "      <td>1.109397e+05</td>\n",
       "      <td>4.450455e+05</td>\n",
       "      <td>9.373752e+05</td>\n",
       "      <td>9.721553e+04</td>\n",
       "    </tr>\n",
       "    <tr>\n",
       "      <th>day24</th>\n",
       "      <td>4.450455e+05</td>\n",
       "      <td>4.092658e+05</td>\n",
       "      <td>1.282330e+06</td>\n",
       "      <td>4.000730e+05</td>\n",
       "    </tr>\n",
       "    <tr>\n",
       "      <th>day25</th>\n",
       "      <td>4.092658e+05</td>\n",
       "      <td>1.927995e+05</td>\n",
       "      <td>7.643254e+05</td>\n",
       "      <td>1.635769e+05</td>\n",
       "    </tr>\n",
       "    <tr>\n",
       "      <th>day26</th>\n",
       "      <td>1.927995e+05</td>\n",
       "      <td>6.534554e+04</td>\n",
       "      <td>2.445143e+05</td>\n",
       "      <td>4.850110e+04</td>\n",
       "    </tr>\n",
       "    <tr>\n",
       "      <th>day27</th>\n",
       "      <td>6.534554e+04</td>\n",
       "      <td>6.238435e+04</td>\n",
       "      <td>1.724507e+05</td>\n",
       "      <td>5.491469e+04</td>\n",
       "    </tr>\n",
       "    <tr>\n",
       "      <th>day28</th>\n",
       "      <td>6.238435e+04</td>\n",
       "      <td>1.577083e+05</td>\n",
       "      <td>1.577083e+05</td>\n",
       "      <td>6.238435e+04</td>\n",
       "    </tr>\n",
       "    <tr>\n",
       "      <th>day29</th>\n",
       "      <td>1.577083e+05</td>\n",
       "      <td>7.396941e+05</td>\n",
       "      <td>1.003264e+06</td>\n",
       "      <td>1.577083e+05</td>\n",
       "    </tr>\n",
       "    <tr>\n",
       "      <th>day30</th>\n",
       "      <td>7.396941e+05</td>\n",
       "      <td>3.988528e+05</td>\n",
       "      <td>1.825202e+06</td>\n",
       "      <td>3.318119e+05</td>\n",
       "    </tr>\n",
       "    <tr>\n",
       "      <th>...</th>\n",
       "      <td>...</td>\n",
       "      <td>...</td>\n",
       "      <td>...</td>\n",
       "      <td>...</td>\n",
       "    </tr>\n",
       "    <tr>\n",
       "      <th>day71</th>\n",
       "      <td>2.521829e+05</td>\n",
       "      <td>1.220980e+06</td>\n",
       "      <td>1.259727e+06</td>\n",
       "      <td>2.377231e+05</td>\n",
       "    </tr>\n",
       "    <tr>\n",
       "      <th>day72</th>\n",
       "      <td>1.220980e+06</td>\n",
       "      <td>3.245243e+06</td>\n",
       "      <td>3.245243e+06</td>\n",
       "      <td>1.055113e+06</td>\n",
       "    </tr>\n",
       "    <tr>\n",
       "      <th>day73</th>\n",
       "      <td>3.245243e+06</td>\n",
       "      <td>6.079315e+06</td>\n",
       "      <td>1.458399e+07</td>\n",
       "      <td>2.648256e+06</td>\n",
       "    </tr>\n",
       "    <tr>\n",
       "      <th>day74</th>\n",
       "      <td>6.079315e+06</td>\n",
       "      <td>3.329448e+07</td>\n",
       "      <td>3.702925e+07</td>\n",
       "      <td>3.071155e+06</td>\n",
       "    </tr>\n",
       "    <tr>\n",
       "      <th>day75</th>\n",
       "      <td>3.329448e+07</td>\n",
       "      <td>3.869553e+07</td>\n",
       "      <td>1.343974e+08</td>\n",
       "      <td>2.886973e+07</td>\n",
       "    </tr>\n",
       "    <tr>\n",
       "      <th>day76</th>\n",
       "      <td>3.869553e+07</td>\n",
       "      <td>1.254817e+08</td>\n",
       "      <td>1.254817e+08</td>\n",
       "      <td>3.627131e+07</td>\n",
       "    </tr>\n",
       "    <tr>\n",
       "      <th>day77</th>\n",
       "      <td>1.254817e+08</td>\n",
       "      <td>2.038801e+08</td>\n",
       "      <td>2.375633e+08</td>\n",
       "      <td>1.066513e+08</td>\n",
       "    </tr>\n",
       "    <tr>\n",
       "      <th>day78</th>\n",
       "      <td>2.038801e+08</td>\n",
       "      <td>7.970753e+07</td>\n",
       "      <td>2.279943e+08</td>\n",
       "      <td>3.628691e+07</td>\n",
       "    </tr>\n",
       "    <tr>\n",
       "      <th>day79</th>\n",
       "      <td>7.970753e+07</td>\n",
       "      <td>1.339350e+08</td>\n",
       "      <td>2.897254e+08</td>\n",
       "      <td>7.908160e+07</td>\n",
       "    </tr>\n",
       "    <tr>\n",
       "      <th>day80</th>\n",
       "      <td>1.339350e+08</td>\n",
       "      <td>3.335307e+08</td>\n",
       "      <td>3.750071e+08</td>\n",
       "      <td>8.211229e+07</td>\n",
       "    </tr>\n",
       "    <tr>\n",
       "      <th>day81</th>\n",
       "      <td>3.335307e+08</td>\n",
       "      <td>6.713426e+07</td>\n",
       "      <td>5.297475e+08</td>\n",
       "      <td>4.952001e+07</td>\n",
       "    </tr>\n",
       "    <tr>\n",
       "      <th>day82</th>\n",
       "      <td>6.713426e+07</td>\n",
       "      <td>6.930331e+07</td>\n",
       "      <td>1.276232e+08</td>\n",
       "      <td>3.799422e+07</td>\n",
       "    </tr>\n",
       "    <tr>\n",
       "      <th>day83</th>\n",
       "      <td>6.930331e+07</td>\n",
       "      <td>5.215166e+07</td>\n",
       "      <td>1.323082e+08</td>\n",
       "      <td>3.604066e+07</td>\n",
       "    </tr>\n",
       "    <tr>\n",
       "      <th>day84</th>\n",
       "      <td>5.215166e+07</td>\n",
       "      <td>2.444965e+08</td>\n",
       "      <td>2.883635e+08</td>\n",
       "      <td>4.985442e+07</td>\n",
       "    </tr>\n",
       "    <tr>\n",
       "      <th>day85</th>\n",
       "      <td>2.444965e+08</td>\n",
       "      <td>1.602792e+08</td>\n",
       "      <td>2.444965e+08</td>\n",
       "      <td>7.188818e+07</td>\n",
       "    </tr>\n",
       "    <tr>\n",
       "      <th>day86</th>\n",
       "      <td>1.602792e+08</td>\n",
       "      <td>7.624423e+07</td>\n",
       "      <td>2.699678e+08</td>\n",
       "      <td>7.291115e+07</td>\n",
       "    </tr>\n",
       "    <tr>\n",
       "      <th>day87</th>\n",
       "      <td>7.624423e+07</td>\n",
       "      <td>1.146264e+08</td>\n",
       "      <td>1.614233e+08</td>\n",
       "      <td>4.471087e+07</td>\n",
       "    </tr>\n",
       "    <tr>\n",
       "      <th>day88</th>\n",
       "      <td>1.146264e+08</td>\n",
       "      <td>4.115540e+07</td>\n",
       "      <td>3.580561e+08</td>\n",
       "      <td>4.096209e+07</td>\n",
       "    </tr>\n",
       "    <tr>\n",
       "      <th>day89</th>\n",
       "      <td>4.115540e+07</td>\n",
       "      <td>4.145160e+07</td>\n",
       "      <td>7.307054e+07</td>\n",
       "      <td>2.460800e+07</td>\n",
       "    </tr>\n",
       "    <tr>\n",
       "      <th>day90</th>\n",
       "      <td>4.145160e+07</td>\n",
       "      <td>5.699853e+07</td>\n",
       "      <td>8.176435e+07</td>\n",
       "      <td>3.049484e+07</td>\n",
       "    </tr>\n",
       "    <tr>\n",
       "      <th>day91</th>\n",
       "      <td>5.699853e+07</td>\n",
       "      <td>2.582582e+07</td>\n",
       "      <td>9.309826e+07</td>\n",
       "      <td>1.901123e+07</td>\n",
       "    </tr>\n",
       "    <tr>\n",
       "      <th>day92</th>\n",
       "      <td>2.582582e+07</td>\n",
       "      <td>6.414540e+06</td>\n",
       "      <td>2.937091e+07</td>\n",
       "      <td>4.174383e+06</td>\n",
       "    </tr>\n",
       "    <tr>\n",
       "      <th>day93</th>\n",
       "      <td>6.414540e+06</td>\n",
       "      <td>8.471893e+05</td>\n",
       "      <td>6.414540e+06</td>\n",
       "      <td>7.762268e+05</td>\n",
       "    </tr>\n",
       "    <tr>\n",
       "      <th>day94</th>\n",
       "      <td>8.471893e+05</td>\n",
       "      <td>3.295782e+05</td>\n",
       "      <td>1.126507e+06</td>\n",
       "      <td>2.716443e+05</td>\n",
       "    </tr>\n",
       "    <tr>\n",
       "      <th>day95</th>\n",
       "      <td>3.295782e+05</td>\n",
       "      <td>6.037612e+05</td>\n",
       "      <td>7.101289e+05</td>\n",
       "      <td>1.970327e+05</td>\n",
       "    </tr>\n",
       "    <tr>\n",
       "      <th>day96</th>\n",
       "      <td>6.037612e+05</td>\n",
       "      <td>3.758823e+05</td>\n",
       "      <td>1.033387e+06</td>\n",
       "      <td>3.022872e+05</td>\n",
       "    </tr>\n",
       "    <tr>\n",
       "      <th>day97</th>\n",
       "      <td>3.758823e+05</td>\n",
       "      <td>1.481737e+05</td>\n",
       "      <td>7.522141e+05</td>\n",
       "      <td>1.088009e+05</td>\n",
       "    </tr>\n",
       "    <tr>\n",
       "      <th>day98</th>\n",
       "      <td>1.481737e+05</td>\n",
       "      <td>3.953852e+05</td>\n",
       "      <td>3.953852e+05</td>\n",
       "      <td>1.111099e+05</td>\n",
       "    </tr>\n",
       "    <tr>\n",
       "      <th>day99</th>\n",
       "      <td>3.953852e+05</td>\n",
       "      <td>7.955847e+05</td>\n",
       "      <td>1.368046e+06</td>\n",
       "      <td>2.596195e+05</td>\n",
       "    </tr>\n",
       "    <tr>\n",
       "      <th>day100</th>\n",
       "      <td>7.955847e+05</td>\n",
       "      <td>9.657774e+05</td>\n",
       "      <td>9.657774e+05</td>\n",
       "      <td>4.886046e+05</td>\n",
       "    </tr>\n",
       "  </tbody>\n",
       "</table>\n",
       "<p>100 rows × 4 columns</p>\n",
       "</div>"
      ],
      "text/plain": [
       "                            OPEN         CLOSE          HIGH           LOW\n",
       "Simulation# DAY                                                           \n",
       "Simulation1 day1    5.525000e+01  6.621045e+01  6.716142e+01  2.519217e+01\n",
       "            day2    6.621045e+01  1.444346e+02  1.459330e+02  6.378874e+01\n",
       "            day3    1.444346e+02  4.072488e+02  4.072488e+02  1.123058e+02\n",
       "            day4    4.072488e+02  5.211598e+02  1.223913e+03  3.907524e+02\n",
       "            day5    5.211598e+02  1.765615e+03  1.945653e+03  4.573656e+02\n",
       "            day6    1.765615e+03  7.396708e+02  2.426944e+03  5.107953e+02\n",
       "            day7    7.396708e+02  1.245160e+03  1.657904e+03  4.316694e+02\n",
       "            day8    1.245160e+03  1.258658e+03  3.113805e+03  9.500990e+02\n",
       "            day9    1.258658e+03  3.632729e+03  3.884102e+03  1.021420e+03\n",
       "            day10   3.632729e+03  3.862313e+03  7.433374e+03  3.391640e+03\n",
       "            day11   3.862313e+03  3.795160e+03  5.663874e+03  2.267892e+03\n",
       "            day12   3.795160e+03  1.977636e+03  4.971940e+03  1.761734e+03\n",
       "            day13   1.977636e+03  1.653723e+03  2.110708e+03  8.868531e+02\n",
       "            day14   1.653723e+03  5.820320e+03  1.076484e+04  1.653723e+03\n",
       "            day15   5.820320e+03  1.701281e+04  1.701281e+04  3.858953e+03\n",
       "            day16   1.701281e+04  2.648820e+03  2.119233e+04  2.648820e+03\n",
       "            day17   2.648820e+03  8.388081e+03  9.043333e+03  2.491133e+03\n",
       "            day18   8.388081e+03  5.031746e+03  1.376286e+04  5.031746e+03\n",
       "            day19   5.031746e+03  3.899722e+03  7.372310e+03  2.277506e+03\n",
       "            day20   3.899722e+03  2.382656e+04  2.490357e+04  3.463477e+03\n",
       "            day21   2.382656e+04  6.845816e+04  7.156681e+04  2.148319e+04\n",
       "            day22   6.845816e+04  1.109397e+05  1.169924e+05  4.944101e+04\n",
       "            day23   1.109397e+05  4.450455e+05  9.373752e+05  9.721553e+04\n",
       "            day24   4.450455e+05  4.092658e+05  1.282330e+06  4.000730e+05\n",
       "            day25   4.092658e+05  1.927995e+05  7.643254e+05  1.635769e+05\n",
       "            day26   1.927995e+05  6.534554e+04  2.445143e+05  4.850110e+04\n",
       "            day27   6.534554e+04  6.238435e+04  1.724507e+05  5.491469e+04\n",
       "            day28   6.238435e+04  1.577083e+05  1.577083e+05  6.238435e+04\n",
       "            day29   1.577083e+05  7.396941e+05  1.003264e+06  1.577083e+05\n",
       "            day30   7.396941e+05  3.988528e+05  1.825202e+06  3.318119e+05\n",
       "...                          ...           ...           ...           ...\n",
       "            day71   2.521829e+05  1.220980e+06  1.259727e+06  2.377231e+05\n",
       "            day72   1.220980e+06  3.245243e+06  3.245243e+06  1.055113e+06\n",
       "            day73   3.245243e+06  6.079315e+06  1.458399e+07  2.648256e+06\n",
       "            day74   6.079315e+06  3.329448e+07  3.702925e+07  3.071155e+06\n",
       "            day75   3.329448e+07  3.869553e+07  1.343974e+08  2.886973e+07\n",
       "            day76   3.869553e+07  1.254817e+08  1.254817e+08  3.627131e+07\n",
       "            day77   1.254817e+08  2.038801e+08  2.375633e+08  1.066513e+08\n",
       "            day78   2.038801e+08  7.970753e+07  2.279943e+08  3.628691e+07\n",
       "            day79   7.970753e+07  1.339350e+08  2.897254e+08  7.908160e+07\n",
       "            day80   1.339350e+08  3.335307e+08  3.750071e+08  8.211229e+07\n",
       "            day81   3.335307e+08  6.713426e+07  5.297475e+08  4.952001e+07\n",
       "            day82   6.713426e+07  6.930331e+07  1.276232e+08  3.799422e+07\n",
       "            day83   6.930331e+07  5.215166e+07  1.323082e+08  3.604066e+07\n",
       "            day84   5.215166e+07  2.444965e+08  2.883635e+08  4.985442e+07\n",
       "            day85   2.444965e+08  1.602792e+08  2.444965e+08  7.188818e+07\n",
       "            day86   1.602792e+08  7.624423e+07  2.699678e+08  7.291115e+07\n",
       "            day87   7.624423e+07  1.146264e+08  1.614233e+08  4.471087e+07\n",
       "            day88   1.146264e+08  4.115540e+07  3.580561e+08  4.096209e+07\n",
       "            day89   4.115540e+07  4.145160e+07  7.307054e+07  2.460800e+07\n",
       "            day90   4.145160e+07  5.699853e+07  8.176435e+07  3.049484e+07\n",
       "            day91   5.699853e+07  2.582582e+07  9.309826e+07  1.901123e+07\n",
       "            day92   2.582582e+07  6.414540e+06  2.937091e+07  4.174383e+06\n",
       "            day93   6.414540e+06  8.471893e+05  6.414540e+06  7.762268e+05\n",
       "            day94   8.471893e+05  3.295782e+05  1.126507e+06  2.716443e+05\n",
       "            day95   3.295782e+05  6.037612e+05  7.101289e+05  1.970327e+05\n",
       "            day96   6.037612e+05  3.758823e+05  1.033387e+06  3.022872e+05\n",
       "            day97   3.758823e+05  1.481737e+05  7.522141e+05  1.088009e+05\n",
       "            day98   1.481737e+05  3.953852e+05  3.953852e+05  1.111099e+05\n",
       "            day99   3.953852e+05  7.955847e+05  1.368046e+06  2.596195e+05\n",
       "            day100  7.955847e+05  9.657774e+05  9.657774e+05  4.886046e+05\n",
       "\n",
       "[100 rows x 4 columns]"
      ]
     },
     "execution_count": 67,
     "metadata": {},
     "output_type": "execute_result"
    }
   ],
   "source": [
    "final"
   ]
  },
  {
   "cell_type": "code",
   "execution_count": 54,
   "metadata": {},
   "outputs": [],
   "source": [
    "final.to_excel(\"final2.xlsx\")"
   ]
  },
  {
   "cell_type": "code",
   "execution_count": null,
   "metadata": {},
   "outputs": [],
   "source": []
  }
 ],
 "metadata": {
  "kernelspec": {
   "display_name": "Python 3",
   "language": "python",
   "name": "python3"
  },
  "language_info": {
   "codemirror_mode": {
    "name": "ipython",
    "version": 3
   },
   "file_extension": ".py",
   "mimetype": "text/x-python",
   "name": "python",
   "nbconvert_exporter": "python",
   "pygments_lexer": "ipython3",
   "version": "3.7.3"
  }
 },
 "nbformat": 4,
 "nbformat_minor": 2
}
