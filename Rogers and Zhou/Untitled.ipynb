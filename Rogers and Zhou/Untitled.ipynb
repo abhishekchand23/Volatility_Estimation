{
 "cells": [
  {
   "cell_type": "code",
   "execution_count": 1,
   "metadata": {},
   "outputs": [],
   "source": [
    "import cvxopt\n",
    "from cvxopt import solvers\n",
    "from cvxopt import matrix\n",
    "import numpy as np\n",
    "from scipy.linalg import null_space\n",
    "import math\n",
    "from sympy import Matrix\n",
    "import sympy\n",
    "import pandas as pd\n",
    "import matplotlib.pyplot as plt"
   ]
  },
  {
   "cell_type": "code",
   "execution_count": 65,
   "metadata": {},
   "outputs": [],
   "source": [
    "mu=0\n",
    "sigma=0.14\n",
    "N=390\n",
    "days=25\n",
    "x=[]\n",
    "x.append(55.25)\n",
    "for i in range(0,N*days):\n",
    "    drift = (mu - 0.5 * sigma**2) * 1/N\n",
    "    x.append(np.exp(np.log(x[i])+drift+sigma*np.random.normal(0,1/N)))\n",
    "    "
   ]
  },
  {
   "cell_type": "code",
   "execution_count": 66,
   "metadata": {},
   "outputs": [
    {
     "data": {
      "text/plain": [
       "9751"
      ]
     },
     "execution_count": 66,
     "metadata": {},
     "output_type": "execute_result"
    }
   ],
   "source": [
    "len(x)"
   ]
  },
  {
   "cell_type": "code",
   "execution_count": 67,
   "metadata": {},
   "outputs": [
    {
     "data": {
      "text/plain": [
       "[<matplotlib.lines.Line2D at 0x6190b34e0>]"
      ]
     },
     "execution_count": 67,
     "metadata": {},
     "output_type": "execute_result"
    },
    {
     "data": {
      "image/png": "[encoded data removed]",
      "text/plain": [
       "<Figure size 432x288 with 1 Axes>"
      ]
     },
     "metadata": {
      "needs_background": "light"
     },
     "output_type": "display_data"
    }
   ],
   "source": [
    "plt.plot(x)"
   ]
  },
  {
   "cell_type": "code",
   "execution_count": 19,
   "metadata": {},
   "outputs": [
    {
     "data": {
      "text/plain": [
       "[50,\n",
       " 50.78470480860156,\n",
       " 50.67475422061088,\n",
       " 51.09700893820522,\n",
       " 50.76360919683999,\n",
       " 50.47556889163247,\n",
       " 50.60453717413679,\n",
       " 50.76959776471391,\n",
       " 50.45929714360875,\n",
       " 49.03275960982371,\n",
       " 48.70677531199473,\n",
       " 48.79716044367308,\n",
       " 48.56519512324833,\n",
       " 48.54392884669019,\n",
       " 48.4326447774519,\n",
       " 47.5044781670697,\n",
       " 47.68668198591382,\n",
       " 47.17439839833075,\n",
       " 46.704274221913636,\n",
       " 46.746772621888645,\n",
       " 46.17456272186251,\n",
       " 46.06468528840676,\n",
       " 45.44435701569867,\n",
       " 45.13298688721127,\n",
       " 44.74047320698812,\n",
       " 44.31214633752101,\n",
       " 43.732614987609765,\n",
       " 43.494866911338406,\n",
       " 43.33047538058207,\n",
       " 43.5154363884686,\n",
       " 43.050658963445485,\n",
       " 42.858524730364735,\n",
       " 43.5965349973372,\n",
       " 43.54939858104676,\n",
       " 43.54187103343217,\n",
       " 43.51285309250104,\n",
       " 42.564196872581135,\n",
       " 42.24873321328311,\n",
       " 41.14808266865742,\n",
       " 41.297028938894066,\n",
       " 41.795697467362366,\n",
       " 41.36791394245353,\n",
       " 41.893904288658625,\n",
       " 41.220028039346666,\n",
       " 40.528479075035634,\n",
       " 40.549856155063814,\n",
       " 40.01972364538579,\n",
       " 39.62284933340509,\n",
       " 39.85581077771447,\n",
       " 39.27237942187319,\n",
       " 38.96641416754042,\n",
       " 38.72664864011777,\n",
       " 38.67964261752533,\n",
       " 38.76955902737802,\n",
       " 38.536261963836836,\n",
       " 37.88717272988346,\n",
       " 38.08090441995134,\n",
       " 38.9962919523203,\n",
       " 39.121402271099825,\n",
       " 39.145121529732805,\n",
       " 38.80384668054376,\n",
       " 38.51309602625697,\n",
       " 37.79218009794471,\n",
       " 37.83654854749225,\n",
       " 37.59675177866903,\n",
       " 37.89414851280755,\n",
       " 37.31617069475331,\n",
       " 37.64010426490931,\n",
       " 37.3364670671613,\n",
       " 36.92391142260856,\n",
       " 36.5626888255205,\n",
       " 36.15945460419779,\n",
       " 35.23553532259507,\n",
       " 35.28466038752981,\n",
       " 35.3815804726994,\n",
       " 35.65812578344586,\n",
       " 35.731398544600694,\n",
       " 35.78717493215047,\n",
       " 35.01598133149794,\n",
       " 34.90519477041145,\n",
       " 34.339744822806814,\n",
       " 34.07324824405499,\n",
       " 34.38012949135787,\n",
       " 34.21968149499062,\n",
       " 33.170613656545996,\n",
       " 32.67625204253881,\n",
       " 32.329284707723666,\n",
       " 32.09553379947754,\n",
       " 32.23642822825523,\n",
       " 32.345178425204814,\n",
       " 32.446301150913065,\n",
       " 32.35956081596938,\n",
       " 32.103287638888574,\n",
       " 31.827849708169566,\n",
       " 31.806250728206237,\n",
       " 31.944576593269737,\n",
       " 32.28261203834931,\n",
       " 32.151689259502156,\n",
       " 32.08578992538278,\n",
       " 32.40353618496403,\n",
       " 31.89338772070426]"
      ]
     },
     "execution_count": 19,
     "metadata": {},
     "output_type": "execute_result"
    }
   ],
   "source": [
    "x"
   ]
  },
  {
   "cell_type": "code",
   "execution_count": null,
   "metadata": {},
   "outputs": [],
   "source": []
  }
 ],
 "metadata": {
  "kernelspec": {
   "display_name": "Python 3",
   "language": "python",
   "name": "python3"
  },
  "language_info": {
   "codemirror_mode": {
    "name": "ipython",
    "version": 3
   },
   "file_extension": ".py",
   "mimetype": "text/x-python",
   "name": "python",
   "nbconvert_exporter": "python",
   "pygments_lexer": "ipython3",
   "version": "3.7.3"
  }
 },
 "nbformat": 4,
 "nbformat_minor": 2
}
